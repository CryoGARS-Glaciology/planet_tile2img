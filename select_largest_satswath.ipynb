{
 "cells": [
  {
   "cell_type": "code",
   "execution_count": 1,
   "id": "24c131c3",
   "metadata": {},
   "outputs": [],
   "source": [
    "import rasterio as rio\n",
    "from rasterio.mask import mask\n",
    "import cv2\n",
    "import fiona\n",
    "import numpy as np\n",
    "import numpy.ma as ma\n",
    "import matplotlib.pyplot as plt\n",
    "import os\n",
    "import subprocess\n",
    "import shutil\n",
    "from scipy.interpolate import interp2d\n",
    "import glob \n",
    "import pandas as pd\n",
    "from shapely.geometry import mapping\n",
    "import geopandas as gpd"
   ]
  },
  {
   "cell_type": "code",
   "execution_count": 43,
   "id": "f5b6aedb",
   "metadata": {},
   "outputs": [],
   "source": [
    "import sys\n",
    "args = sys.argv\n",
    "basepath = args[1]\n",
    "glacier_outline = args[2]"
   ]
  },
  {
   "cell_type": "code",
   "execution_count": 33,
   "id": "6b2d7e29",
   "metadata": {},
   "outputs": [],
   "source": [
    "# basepath = '/Volumes/SURGE_DISK/PS_downloads_VG/2021-06/PSScene/standard_grid/stitched_by_sat' # path to grid standardized images\n",
    "# glacier_outline = '/Users/jukesliu/Documents/TURNER/DATA/shapefiles_gis/VG/Variegated_polygon_UTM07.shp'"
   ]
  },
  {
   "cell_type": "code",
   "execution_count": 37,
   "id": "435a8015",
   "metadata": {},
   "outputs": [],
   "source": [
    "# read in glacier shapefile\n",
    "glacier_gdf = gpd.read_file(glacier_outline)\n",
    "glacier = glacier_gdf.geometry.values"
   ]
  },
  {
   "cell_type": "code",
   "execution_count": 19,
   "id": "ca9f1732",
   "metadata": {},
   "outputs": [
    {
     "name": "stdout",
     "output_type": "stream",
     "text": [
      "['20210601', '20210604', '20210606', '20210607', '20210608', '20210609', '20210610', '20210612', '20210614', '20210617', '20210619', '20210621', '20210622', '20210624', '20210627', '20210628', '20210629']\n"
     ]
    }
   ],
   "source": [
    "# grab all the unique dates\n",
    "dates = []\n",
    "for file in os.listdir(basepath): # path\n",
    "    date = file.split('_')[1] # grab the date from the file name\n",
    "    dates.append(date)\n",
    "unique_dates = list(set(dates)) # save a list of the dates\n",
    "unique_dates.sort() # sort the dates\n",
    "print(unique_dates)"
   ]
  },
  {
   "cell_type": "code",
   "execution_count": 42,
   "id": "cd4cdfd7",
   "metadata": {
    "scrolled": true
   },
   "outputs": [
    {
     "name": "stdout",
     "output_type": "stream",
     "text": [
      "TILES FOR 20210601\n",
      "['/Volumes/SURGE_DISK/PS_downloads_VG/2021-06/PSScene/standard_grid/stitched_by_sat/PS_20210601_2448.tif']\n",
      "TILES FOR 20210604\n",
      "['/Volumes/SURGE_DISK/PS_downloads_VG/2021-06/PSScene/standard_grid/stitched_by_sat/PS_20210604_240f.tif']\n",
      "TILES FOR 20210606\n",
      "['/Volumes/SURGE_DISK/PS_downloads_VG/2021-06/PSScene/standard_grid/stitched_by_sat/PS_20210606_105c.tif']\n",
      "TILES FOR 20210607\n",
      "['/Volumes/SURGE_DISK/PS_downloads_VG/2021-06/PSScene/standard_grid/stitched_by_sat/PS_20210607_2407.tif']\n",
      "TILES FOR 20210608\n",
      "['/Volumes/SURGE_DISK/PS_downloads_VG/2021-06/PSScene/standard_grid/stitched_by_sat/PS_20210608_1001.tif', '/Volumes/SURGE_DISK/PS_downloads_VG/2021-06/PSScene/standard_grid/stitched_by_sat/PS_20210608_1063.tif']\n",
      "/Volumes/SURGE_DISK/PS_downloads_VG/2021-06/PSScene/standard_grid/stitched_by_sat/PS_20210608_1001.tif\n",
      "TILES FOR 20210609\n",
      "['/Volumes/SURGE_DISK/PS_downloads_VG/2021-06/PSScene/standard_grid/stitched_by_sat/PS_20210609_1034.tif', '/Volumes/SURGE_DISK/PS_downloads_VG/2021-06/PSScene/standard_grid/stitched_by_sat/PS_20210609_1058.tif', '/Volumes/SURGE_DISK/PS_downloads_VG/2021-06/PSScene/standard_grid/stitched_by_sat/PS_20210609_106e.tif', '/Volumes/SURGE_DISK/PS_downloads_VG/2021-06/PSScene/standard_grid/stitched_by_sat/PS_20210609_2436.tif', '/Volumes/SURGE_DISK/PS_downloads_VG/2021-06/PSScene/standard_grid/stitched_by_sat/PS_20210609_245c.tif']\n",
      "/Volumes/SURGE_DISK/PS_downloads_VG/2021-06/PSScene/standard_grid/stitched_by_sat/PS_20210609_106e.tif\n",
      "TILES FOR 20210610\n",
      "['/Volumes/SURGE_DISK/PS_downloads_VG/2021-06/PSScene/standard_grid/stitched_by_sat/PS_20210610_241d.tif']\n",
      "TILES FOR 20210612\n",
      "['/Volumes/SURGE_DISK/PS_downloads_VG/2021-06/PSScene/standard_grid/stitched_by_sat/PS_20210612_227c.tif']\n",
      "TILES FOR 20210614\n",
      "['/Volumes/SURGE_DISK/PS_downloads_VG/2021-06/PSScene/standard_grid/stitched_by_sat/PS_20210614_103b.tif']\n",
      "TILES FOR 20210617\n",
      "['/Volumes/SURGE_DISK/PS_downloads_VG/2021-06/PSScene/standard_grid/stitched_by_sat/PS_20210617_2439.tif']\n",
      "TILES FOR 20210619\n",
      "['/Volumes/SURGE_DISK/PS_downloads_VG/2021-06/PSScene/standard_grid/stitched_by_sat/PS_20210619_103c.tif']\n",
      "TILES FOR 20210621\n",
      "['/Volumes/SURGE_DISK/PS_downloads_VG/2021-06/PSScene/standard_grid/stitched_by_sat/PS_20210621_106a.tif']\n",
      "TILES FOR 20210622\n",
      "['/Volumes/SURGE_DISK/PS_downloads_VG/2021-06/PSScene/standard_grid/stitched_by_sat/PS_20210622_225a.tif']\n",
      "TILES FOR 20210624\n",
      "['/Volumes/SURGE_DISK/PS_downloads_VG/2021-06/PSScene/standard_grid/stitched_by_sat/PS_20210624_1065.tif']\n",
      "TILES FOR 20210627\n",
      "['/Volumes/SURGE_DISK/PS_downloads_VG/2021-06/PSScene/standard_grid/stitched_by_sat/PS_20210627_1025.tif', '/Volumes/SURGE_DISK/PS_downloads_VG/2021-06/PSScene/standard_grid/stitched_by_sat/PS_20210627_2463.tif']\n",
      "/Volumes/SURGE_DISK/PS_downloads_VG/2021-06/PSScene/standard_grid/stitched_by_sat/PS_20210627_1025.tif\n",
      "TILES FOR 20210628\n",
      "['/Volumes/SURGE_DISK/PS_downloads_VG/2021-06/PSScene/standard_grid/stitched_by_sat/PS_20210628_1038.tif', '/Volumes/SURGE_DISK/PS_downloads_VG/2021-06/PSScene/standard_grid/stitched_by_sat/PS_20210628_2453.tif']\n",
      "/Volumes/SURGE_DISK/PS_downloads_VG/2021-06/PSScene/standard_grid/stitched_by_sat/PS_20210628_2453.tif\n",
      "TILES FOR 20210629\n",
      "['/Volumes/SURGE_DISK/PS_downloads_VG/2021-06/PSScene/standard_grid/stitched_by_sat/PS_20210629_0f44.tif']\n"
     ]
    }
   ],
   "source": [
    "for date in unique_dates:  \n",
    "    print('TILES FOR', date)\n",
    "    tiles = glob.glob(basepath+'/PS_'+date+'*.tif') # grab all file paths for that date\n",
    "    print(tiles)\n",
    "    \n",
    "    if not os.path.exists(basepath+'largest_satchunk/'):\n",
    "        print('folder made')\n",
    "        os.mkdir(basepath+'largest_satchunk/')\n",
    "    \n",
    "    if len(tiles) > 1:\n",
    "        coverage_compare = [] # find the tile with the greatest coverage over the glacier outline\n",
    "        for tile in tiles:\n",
    "            reader = rio.open(tile) # open the file\n",
    "            # crop image to glacier outline to determine coverage\n",
    "            try:\n",
    "                out_image, out_transform = mask(reader, [mapping(glacier[0])], crop=True)\n",
    "                crop_array = out_image[0,:,:]\n",
    "                coverage = np.count_nonzero(crop_array[~np.isnan(crop_array)]) # calculate pixels of coverage\n",
    "                coverage_compare.append(coverage)\n",
    "            except Exception:\n",
    "                coverage_compare.append(np.NaN)\n",
    "                continue\n",
    "            \n",
    "        # determine the file with the greatest glacier coverage\n",
    "        ref_img_idx = np.nanargmax(coverage_compare)\n",
    "        reffile = tiles[ref_img_idx]\n",
    "        print(reffile)\n",
    "        \n",
    "        # copy over that image to new folder\n",
    "        shutil.copyfile(reffile, basepath+'largest_satchunk/'+reffile.split('/')[-1][:11]+'.tif')    \n",
    "            \n",
    "    elif len(tiles) == 1: # if there is only one, copy it over and remove sat ID\n",
    "        shutil.copyfile(tiles[0], basepath+'largest_satchunk/'+tiles[0].split('/')[-1][:11]+'.tif')\n",
    "        "
   ]
  },
  {
   "cell_type": "code",
   "execution_count": null,
   "id": "73b9243e",
   "metadata": {},
   "outputs": [],
   "source": []
  }
 ],
 "metadata": {
  "kernelspec": {
   "display_name": "Python 3 (ipykernel)",
   "language": "python",
   "name": "python3"
  },
  "language_info": {
   "codemirror_mode": {
    "name": "ipython",
    "version": 3
   },
   "file_extension": ".py",
   "mimetype": "text/x-python",
   "name": "python",
   "nbconvert_exporter": "python",
   "pygments_lexer": "ipython3",
   "version": "3.9.6"
  }
 },
 "nbformat": 4,
 "nbformat_minor": 5
}
