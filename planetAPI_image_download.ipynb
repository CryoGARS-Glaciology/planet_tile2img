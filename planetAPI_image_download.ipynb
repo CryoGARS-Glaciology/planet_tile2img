{
 "cells": [
  {
   "cell_type": "markdown",
   "metadata": {},
   "source": [
    "# Notebook to bulk download PlanetScope imagery through an API\n",
    "\n",
    "Contributors: Rainey Aberle (raineyaberle@boisestate.edu), Maddie Gendreau, Jukes Liu\n",
    "\n",
    "Modified from [Planet Developers API Tutorial](https://developers.planet.com/docs/apis/data/) and [Planet Labs: `ordering_and_delivery.ipynb`](https://github.com/planetlabs/notebooks/blob/master/jupyter-notebooks/orders/ordering_and_delivery.ipynb )\n"
   ]
  },
  {
   "cell_type": "markdown",
   "metadata": {},
   "source": [
    "### Import necessary packages"
   ]
  },
  {
   "cell_type": "code",
   "execution_count": 1,
   "metadata": {},
   "outputs": [],
   "source": [
    "import os\n",
    "import glob\n",
    "import json\n",
    "import requests\n",
    "import time\n",
    "import geopandas as gpd\n",
    "from shapely import geometry as sgeom\n",
    "from pathlib import Path\n",
    "import rasterio as rio\n",
    "import numpy as np\n",
    "import sys\n",
    "from rasterio.plot import show\n",
    "from requests.auth import HTTPBasicAuth\n",
    "# add path to functions\n",
    "sys.path.insert(1, '/Users/jukesliu/Documents/GitHub/planet_tile2img/')\n",
    "import PlanetScope_orders_utils as orders"
   ]
  },
  {
   "cell_type": "markdown",
   "metadata": {},
   "source": [
    "inputs: -start_month yyyy-mm -end_month yyyy-mm -aoi_shpfile_path -api_key"
   ]
  },
  {
   "cell_type": "code",
   "execution_count": null,
   "metadata": {},
   "outputs": [],
   "source": [
    "args = sys.argv\n",
    "start_month = args[1]\n",
    "end_month = args[2]\n",
    "aoi_path = args[3]\n",
    "API_key = args[4]\n",
    "out_folder = args[5]"
   ]
  },
  {
   "cell_type": "markdown",
   "metadata": {},
   "source": [
    "### Install Planet API Client\n",
    "\n",
    "This will allow you to interact with the Planet API through this notebook. Refer to the __[Planet API documentation](https://developers.planet.com/docs/apis/data/)__ for more info. "
   ]
  },
  {
   "cell_type": "code",
   "execution_count": null,
   "metadata": {
    "scrolled": false
   },
   "outputs": [],
   "source": [
    "# !conda install -c conda-forge planet -y"
   ]
  },
  {
   "cell_type": "markdown",
   "metadata": {},
   "source": [
    "### Define filters for image search\n",
    "#### _Modify these sections_"
   ]
  },
  {
   "cell_type": "code",
   "execution_count": 2,
   "metadata": {},
   "outputs": [],
   "source": [
    "aoi_path = '/Users/jukesliu/Documents/PLANETSCOPE_velocities/AV/AV_Box_WGS.shp'\n",
    "start_month='2020-06'\n",
    "end_month='2020-07'"
   ]
  },
  {
   "cell_type": "code",
   "execution_count": 3,
   "metadata": {},
   "outputs": [
    {
     "data": {
      "text/plain": [
       "{'type': 'Polygon',\n",
       " 'coordinates': [[[11.629286889798074, 78.64326880587231],\n",
       "   [12.618224001106888, 78.64326880587231],\n",
       "   [12.618224001106888, 78.74974826170063],\n",
       "   [11.629286889798074, 78.74974826170063],\n",
       "   [11.629286889798074, 78.64326880587231]]]}"
      ]
     },
     "execution_count": 3,
     "metadata": {},
     "output_type": "execute_result"
    }
   ],
   "source": [
    "#### OPTION 2: Import an existing shapefile\n",
    "\n",
    "# Name of your file\n",
    "# If your shapefile is not currently in this directory, you need to include the full file path in 'file_name' below\n",
    "# file_name = '/Users/jukesliu/Documents/TURNER/DATA/shapefiles_gis/BoxTurner/BoxTurner_WGS.shp'\n",
    "\n",
    "# Read in the shapefile\n",
    "AOI = gpd.read_file(aoi_path)\n",
    "\n",
    "# File extension index (we don't want the .shp extension in the next line)\n",
    "i = aoi_path.index('.shp')\n",
    "\n",
    "# Convert to geojson\n",
    "AOI.to_file(aoi_path[0:i]+'.geojson', driver='GeoJSON')\n",
    "\n",
    "# Adjust AOI polygon to a rectangular shape \n",
    "# Planet only excepts a bounding BOX as a spatial filter, \n",
    "# so we need to convert our AOI to a box (if it is not already). \n",
    "AOI_box = {\"type\": \"Polygon\",\n",
    "           \"coordinates\": [[\n",
    "               [AOI.bounds.minx[0],AOI.bounds.miny[0]],\n",
    "               [AOI.bounds.maxx[0],AOI.bounds.miny[0]],\n",
    "               [AOI.bounds.maxx[0],AOI.bounds.maxy[0]],\n",
    "               [AOI.bounds.minx[0],AOI.bounds.maxy[0]],\n",
    "               [AOI.bounds.minx[0],AOI.bounds.miny[0]]\n",
    "           ]]\n",
    "          }\n",
    "AOI_box_shape = sgeom.shape(AOI_box)\n",
    "AOI_box"
   ]
  },
  {
   "cell_type": "code",
   "execution_count": 6,
   "metadata": {},
   "outputs": [],
   "source": [
    "# ----------AOI clipping----------\n",
    "# Would you like to clip images to the AOI (True/False)?\n",
    "clip_AOI = True\n",
    "\n",
    "# ----------Date Range----------\n",
    "# Format: 'YYYY-MM-DD'\n",
    "start_date = start_month+\"-01\"\n",
    "end_date = end_month+\"-01\"\n",
    "# end_date = \"2022-12-01\"\n",
    "\n",
    "# ----------Cloud Filter----------\n",
    "# Format: decimal (e.g., 50% max cloud cover = 0.5)\n",
    "max_cloud_cover = 0.8\n",
    "\n",
    "# ----------Item Type----------\n",
    "# See here for possible image (\"item\") types:\n",
    "# https://developers.planet.com/docs/apis/data/items-assets/\n",
    "# item_type = \"PSScene4Band\" #OLD (now deprecated)\n",
    "item_type = \"PSScene\"\n",
    "asset_type = \"ortho_analytic_4b_sr\"\n",
    "\n",
    "# ----------Planet API Key---------- MAKE THIS PRIVATE USING BOTO3?\n",
    "# Find your API key on your Planet Account > My Settings > API Key\n",
    "\n",
    "# ----------Output folder----------\n",
    "# AKA, where you want your images to be downloaded in your directory\n",
    "out_folder = '/Volumes/SURGE_DISK/PS_downloads_MZ/'"
   ]
  },
  {
   "cell_type": "markdown",
   "metadata": {},
   "source": [
    "### Authentication via basic HTTP"
   ]
  },
  {
   "cell_type": "code",
   "execution_count": 7,
   "metadata": {},
   "outputs": [
    {
     "data": {
      "text/plain": [
       "<Response [200]>"
      ]
     },
     "execution_count": 7,
     "metadata": {},
     "output_type": "execute_result"
    }
   ],
   "source": [
    "# set API key as environment variable\n",
    "os.environ['PL_API_KEY'] = API_key\n",
    "\n",
    "# Setup the API Key stored as the `PL_API_KEY` environment variable\n",
    "PLANET_API_KEY = os.getenv('PL_API_KEY')\n",
    "\n",
    "# Orders URL\n",
    "orders_url = 'https://api.planet.com/compute/ops/orders/v2'\n",
    "\n",
    "# Authorize\n",
    "auth = HTTPBasicAuth(PLANET_API_KEY, '')\n",
    "response = requests.get(orders_url, auth=auth)\n",
    "response"
   ]
  },
  {
   "cell_type": "markdown",
   "metadata": {},
   "source": [
    "### Compile filters and use Quick Search to grab image IDs"
   ]
  },
  {
   "cell_type": "code",
   "execution_count": 8,
   "metadata": {
    "scrolled": false
   },
   "outputs": [
    {
     "name": "stdout",
     "output_type": "stream",
     "text": [
      "183 images found\n"
     ]
    }
   ],
   "source": [
    "# get images that overlap with our AOI \n",
    "geometry_filter = {\n",
    "  \"type\": \"GeometryFilter\",\n",
    "  \"field_name\": \"geometry\",\n",
    "  \"config\": AOI_box\n",
    "}\n",
    "\n",
    "# get images acquired within a date range\n",
    "date_range_filter = {\n",
    "  \"type\": \"DateRangeFilter\",\n",
    "  \"field_name\": \"acquired\",\n",
    "  \"config\": {\n",
    "    \"gte\": start_date + \"T00:00:00.000Z\",\n",
    "    \"lte\": end_date + \"T00:00:00.000Z\"\n",
    "  }\n",
    "}\n",
    "\n",
    "# only get images which have <50% cloud coverage\n",
    "cloud_cover_filter = {\n",
    "  \"type\": \"RangeFilter\",\n",
    "  \"field_name\": \"cloud_cover\",\n",
    "  \"config\": {\n",
    "    \"lte\": max_cloud_cover\n",
    "  }\n",
    "}\n",
    "\n",
    "# combine our geo, date, cloud filters\n",
    "combined_filter = {\n",
    "  \"type\": \"AndFilter\",\n",
    "  \"config\": [geometry_filter, date_range_filter, cloud_cover_filter]\n",
    "}\n",
    "\n",
    "# define the clip tool\n",
    "clip = {\n",
    "    \"clip\": {\n",
    "        \"aoi\": AOI_box\n",
    "    }\n",
    "}\n",
    "\n",
    "# -----AOI clipping\n",
    "# Determine whether to clip images to the AOI (True/False)\n",
    "# This greatly speeds up the ordering and downloading process and decreases the usage of your imagery quota\n",
    "clip_to_AOI = True\n",
    "\n",
    "# -----Sentinel-2 Harmonization\n",
    "# option to harmonize PlanetScope imagery to Sentinel-2\n",
    "harmonize = True # = True to harmonize\n",
    "\n",
    "# -----Create request\n",
    "QS_request = orders.build_QS_request(AOI_box_shape, max_cloud_cover, start_date, end_date, item_type, asset_type)\n",
    "        \n",
    "# -----Planet API Quick Search using created request\n",
    "# fire off the POST request\n",
    "QS_result = \\\n",
    "  requests.post(\n",
    "    'https://api.planet.com/data/v1/quick-search',\n",
    "    auth=HTTPBasicAuth(PLANET_API_KEY, ''),\n",
    "    json=QS_request)\n",
    "# Print resulting image IDs\n",
    "im_ids = [feature['id'] for feature in QS_result.json()['features']]\n",
    "im_ids = sorted(im_ids)\n",
    "print(len(im_ids),'images found')"
   ]
  },
  {
   "cell_type": "code",
   "execution_count": 9,
   "metadata": {},
   "outputs": [
    {
     "name": "stdout",
     "output_type": "stream",
     "text": [
      "183 new images to be downloaded\n"
     ]
    }
   ],
   "source": [
    "# only download images that don't already exist in directory\n",
    "im_ids_filtered = []\n",
    "for im_id in im_ids:\n",
    "    num_exist = len(glob.glob(out_folder + im_id+'_harmonized_clip.tif'))\n",
    "    if num_exist==0:\n",
    "        im_ids_filtered = im_ids_filtered + [im_id]\n",
    "print(str(len(im_ids_filtered)) + ' new images to be downloaded')"
   ]
  },
  {
   "cell_type": "markdown",
   "metadata": {
    "scrolled": true
   },
   "source": [
    "## Place order"
   ]
  },
  {
   "cell_type": "code",
   "execution_count": 10,
   "metadata": {},
   "outputs": [
    {
     "name": "stdout",
     "output_type": "stream",
     "text": [
      "{'_links': {'_self': 'https://api.planet.com/compute/ops/orders/v2/1c599a3a-4bb1-40f4-8ced-0e112d5b8964'}, 'created_on': '2023-12-04T21:26:18.162Z', 'error_hints': [], 'id': '1c599a3a-4bb1-40f4-8ced-0e112d5b8964', 'last_message': 'Preparing order', 'last_modified': '2023-12-04T21:26:18.162Z', 'name': 'simple order', 'products': [{'item_ids': ['20200603_054040_0f36', '20200603_114825_103b', '20200603_114826_103b', '20200603_183654_103e', '20200603_183655_103e', '20200604_053613_104e', '20200604_053614_104e', '20200604_053615_104e', '20200604_053616_104e', '20200604_072451_89_1062', '20200604_223043_1054', '20200604_223044_1054', '20200604_223045_1054', '20200605_005703_23_1063', '20200605_005705_27_1063', '20200605_223006_104a', '20200605_223008_104a', '20200606_182816_0f15', '20200606_182817_0f15', '20200606_182819_0f15', '20200606_182820_0f15', '20200609_004930_29_1062', '20200609_004932_35_1062', '20200609_115110_1039', '20200609_115111_1039', '20200609_115112_1039', '20200610_051552_104a', '20200610_051553_104a', '20200610_051554_104a', '20200610_052753_1052', '20200610_052754_1052', '20200610_052755_1052', '20200610_053317_1053', '20200610_053318_1053', '20200610_053318_1_1053', '20200610_053319_1053', '20200610_053320_1053', '20200610_053814_0f2b', '20200610_053814_1_0f2b', '20200610_053815_0f2b', '20200610_053816_0f2b', '20200610_053817_0f2b', '20200611_121503_27_105c', '20200611_121505_74_105c', '20200611_222049_100d', '20200611_222050_100d', '20200612_051859_1020', '20200614_221325_0f36', '20200614_221326_0f36', '20200614_223856_0f46', '20200614_223857_0f46', '20200614_223858_0f46', '20200615_053204_1053', '20200615_053205_1053', '20200615_053206_1053', '20200615_053206_1_1053', '20200615_053207_1053', '20200616_073658_89_1063', '20200617_005146_45_1062', '20200617_005148_00_1062', '20200617_005149_55_1062', '20200617_051403_104e', '20200617_074000_83_106e', '20200617_074002_91_106e', '20200617_114826_1039', '20200617_114827_1039', '20200617_114828_1039', '20200617_114829_1039', '20200617_222657_104e', '20200617_222658_104e', '20200617_222659_104e', '20200617_222700_104e', '20200617_223017_1020', '20200617_223018_1020', '20200617_223019_1020', '20200617_223020_1020', '20200617_223021_1020', '20200619_053156_104e', '20200619_053157_104e', '20200619_053158_104e', '20200619_053159_104e', '20200619_053517_1020', '20200619_053518_1020', '20200619_053518_1_1020', '20200619_053519_1020', '20200619_053520_1020', '20200619_073546_98_1069', '20200619_073549_02_1069', '20200619_073551_06_1069', '20200620_053504_0f2b', '20200620_053504_1_0f2b', '20200620_053505_0f2b', '20200620_073803_82_1063', '20200621_222412_0f21', '20200621_222413_0f21', '20200621_222414_0f21', '20200621_222415_0f21', '20200622_053943_1050', '20200622_053944_1050', '20200622_072613_42_1065', '20200622_072614_98_1065', '20200622_073438_97_106a', '20200622_073441_05_106a', '20200622_114715_1004', '20200622_114716_1004', '20200622_114717_1004', '20200622_114739_1026', '20200622_223617_1048', '20200622_223618_1048', '20200622_223620_1048', '20200623_051526_0f2b', '20200623_051527_0f2b', '20200623_051528_0f2b', '20200623_051852_0f49', '20200623_051853_0f49', '20200623_051854_0f49', '20200623_051855_0f49', '20200623_052618_1043', '20200623_052619_1043', '20200623_052620_1043', '20200623_052621_1043', '20200623_071951_86_106b', '20200623_071953_42_106b', '20200623_071954_97_106b', '20200623_071956_52_106b', '20200623_072831_22_1067', '20200623_072832_77_1067', '20200623_072834_32_1067', '20200623_073654_77_1069', '20200623_114618_0f15', '20200623_114619_0f15', '20200623_114620_0f15', '20200625_223310_1050', '20200625_223311_1050', '20200625_223312_1050', '20200626_052856_0f2e', '20200626_052857_0f2e', '20200626_071857_25_106e', '20200626_071858_82_106e', '20200626_114920_0f28', '20200626_114921_0f28', '20200626_114922_0f28', '20200627_072933_82_1067', '20200627_073756_10_1069', '20200627_073758_15_1069', '20200627_114643_0f17', '20200627_114644_0f17', '20200627_114645_0f17', '20200627_121037_88_105c', '20200627_121040_36_105c', '20200627_184458_1039', '20200627_184459_1039', '20200627_184500_1039', '20200627_184501_1039', '20200627_222332_104e', '20200627_222333_104e', '20200627_222334_104e', '20200627_222335_104e', '20200627_223434_1048', '20200627_223435_1048', '20200627_223436_1048', '20200627_223437_1048', '20200628_074005_86_1063', '20200628_222247_1053', '20200628_222248_1053', '20200628_222626_0f2b', '20200628_222627_0f2b', '20200628_222628_0f2b', '20200628_222629_0f2b', '20200628_222629_1_0f2b', '20200629_052051_0f46', '20200629_052052_0f46', '20200629_052444_0f4d', '20200629_052445_1_0f4d', '20200629_114740_1018', '20200629_114741_1018', '20200629_114742_1018', '20200629_114743_1018', '20200629_220812_0f36', '20200629_223031_0f3d', '20200629_223032_0f3d', '20200630_004016_68_1063', '20200630_222244_104a'], 'item_type': 'PSScene', 'product_bundle': 'analytic_sr_udm2'}], 'state': 'queued', 'tools': [{'clip': {'aoi': {'coordinates': [[[11.629286889798074, 78.64326880587231], [12.618224001106888, 78.64326880587231], [12.618224001106888, 78.74974826170063], [11.629286889798074, 78.74974826170063], [11.629286889798074, 78.64326880587231]]], 'type': 'Polygon'}}}, {'harmonize': {'target_sensor': 'Sentinel-2'}}]}\n",
      "1c599a3a-4bb1-40f4-8ced-0e112d5b8964\n"
     ]
    }
   ],
   "source": [
    "# -----Build new request\n",
    "request = orders.build_request_itemIDs(AOI_box, clip_to_AOI, harmonize, im_ids_filtered, item_type, asset_type)\n",
    "\n",
    "# -----Place order\n",
    "if orders_url!=\"N/A\":\n",
    "    order_url = orders.place_order(orders_url, request, auth)"
   ]
  },
  {
   "cell_type": "markdown",
   "metadata": {},
   "source": [
    "### Poll for Order Success\n",
    "- This section outputs the status of the order every ~10 sec. This will take a few minutes... \n",
    "- Wait until it outputs `success` to proceed to the next section. It will stop after 30 loops, so try proceeding to the next section if it finishes running and does not output `success`.\n",
    "- If you are ordering a LOT of images, consider narrowing your date range to download less images at a time. "
   ]
  },
  {
   "cell_type": "code",
   "execution_count": 37,
   "metadata": {
    "scrolled": false
   },
   "outputs": [
    {
     "name": "stdout",
     "output_type": "stream",
     "text": [
      "running\n",
      "running\n",
      "running\n",
      "running\n"
     ]
    },
    {
     "ename": "JSONDecodeError",
     "evalue": "Expecting value: line 1 column 1 (char 0)",
     "output_type": "error",
     "traceback": [
      "\u001b[0;31m---------------------------------------------------------------------------\u001b[0m",
      "\u001b[0;31mJSONDecodeError\u001b[0m                           Traceback (most recent call last)",
      "Input \u001b[0;32mIn [37]\u001b[0m, in \u001b[0;36m<cell line: 3>\u001b[0;34m()\u001b[0m\n\u001b[1;32m      1\u001b[0m \u001b[38;5;66;03m# -----Poll the order every 10s until it outputs \"success,\" \"failed,\" or \"partial\"\u001b[39;00m\n\u001b[1;32m      2\u001b[0m \u001b[38;5;66;03m# Only continue to the next cell if outputs \"success\". Otherwise, try again or submit a new search request. \u001b[39;00m\n\u001b[0;32m----> 3\u001b[0m \u001b[43morders\u001b[49m\u001b[38;5;241;43m.\u001b[39;49m\u001b[43mpoll_for_success\u001b[49m\u001b[43m(\u001b[49m\u001b[43morder_url\u001b[49m\u001b[43m,\u001b[49m\u001b[43m \u001b[49m\u001b[43mauth\u001b[49m\u001b[43m)\u001b[49m\n",
      "File \u001b[0;32m~/Documents/GitHub/planet_tile2img/PlanetScope_orders_utils.py:164\u001b[0m, in \u001b[0;36mpoll_for_success\u001b[0;34m(order_url, auth, num_loops)\u001b[0m\n\u001b[1;32m    162\u001b[0m count \u001b[38;5;241m+\u001b[39m\u001b[38;5;241m=\u001b[39m \u001b[38;5;241m1\u001b[39m\n\u001b[1;32m    163\u001b[0m r \u001b[38;5;241m=\u001b[39m requests\u001b[38;5;241m.\u001b[39mget(order_url, auth\u001b[38;5;241m=\u001b[39mauth)\n\u001b[0;32m--> 164\u001b[0m response \u001b[38;5;241m=\u001b[39m \u001b[43mr\u001b[49m\u001b[38;5;241;43m.\u001b[39;49m\u001b[43mjson\u001b[49m\u001b[43m(\u001b[49m\u001b[43m)\u001b[49m\n\u001b[1;32m    165\u001b[0m state \u001b[38;5;241m=\u001b[39m response[\u001b[38;5;124m'\u001b[39m\u001b[38;5;124mstate\u001b[39m\u001b[38;5;124m'\u001b[39m]\n\u001b[1;32m    166\u001b[0m \u001b[38;5;28mprint\u001b[39m(state)\n",
      "File \u001b[0;32m~/opt/anaconda3/envs/newautoriftenv/lib/python3.9/site-packages/requests/models.py:910\u001b[0m, in \u001b[0;36mResponse.json\u001b[0;34m(self, **kwargs)\u001b[0m\n\u001b[1;32m    904\u001b[0m         \u001b[38;5;28;01mexcept\u001b[39;00m \u001b[38;5;167;01mUnicodeDecodeError\u001b[39;00m:\n\u001b[1;32m    905\u001b[0m             \u001b[38;5;66;03m# Wrong UTF codec detected; usually because it's not UTF-8\u001b[39;00m\n\u001b[1;32m    906\u001b[0m             \u001b[38;5;66;03m# but some other 8-bit codec.  This is an RFC violation,\u001b[39;00m\n\u001b[1;32m    907\u001b[0m             \u001b[38;5;66;03m# and the server didn't bother to tell us what codec *was*\u001b[39;00m\n\u001b[1;32m    908\u001b[0m             \u001b[38;5;66;03m# used.\u001b[39;00m\n\u001b[1;32m    909\u001b[0m             \u001b[38;5;28;01mpass\u001b[39;00m\n\u001b[0;32m--> 910\u001b[0m \u001b[38;5;28;01mreturn\u001b[39;00m \u001b[43mcomplexjson\u001b[49m\u001b[38;5;241;43m.\u001b[39;49m\u001b[43mloads\u001b[49m\u001b[43m(\u001b[49m\u001b[38;5;28;43mself\u001b[39;49m\u001b[38;5;241;43m.\u001b[39;49m\u001b[43mtext\u001b[49m\u001b[43m,\u001b[49m\u001b[43m \u001b[49m\u001b[38;5;241;43m*\u001b[39;49m\u001b[38;5;241;43m*\u001b[39;49m\u001b[43mkwargs\u001b[49m\u001b[43m)\u001b[49m\n",
      "File \u001b[0;32m~/opt/anaconda3/envs/newautoriftenv/lib/python3.9/site-packages/simplejson/__init__.py:525\u001b[0m, in \u001b[0;36mloads\u001b[0;34m(s, encoding, cls, object_hook, parse_float, parse_int, parse_constant, object_pairs_hook, use_decimal, **kw)\u001b[0m\n\u001b[1;32m    477\u001b[0m \u001b[38;5;124;03m\"\"\"Deserialize ``s`` (a ``str`` or ``unicode`` instance containing a JSON\u001b[39;00m\n\u001b[1;32m    478\u001b[0m \u001b[38;5;124;03mdocument) to a Python object.\u001b[39;00m\n\u001b[1;32m    479\u001b[0m \n\u001b[0;32m   (...)\u001b[0m\n\u001b[1;32m    519\u001b[0m \n\u001b[1;32m    520\u001b[0m \u001b[38;5;124;03m\"\"\"\u001b[39;00m\n\u001b[1;32m    521\u001b[0m \u001b[38;5;28;01mif\u001b[39;00m (\u001b[38;5;28mcls\u001b[39m \u001b[38;5;129;01mis\u001b[39;00m \u001b[38;5;28;01mNone\u001b[39;00m \u001b[38;5;129;01mand\u001b[39;00m encoding \u001b[38;5;129;01mis\u001b[39;00m \u001b[38;5;28;01mNone\u001b[39;00m \u001b[38;5;129;01mand\u001b[39;00m object_hook \u001b[38;5;129;01mis\u001b[39;00m \u001b[38;5;28;01mNone\u001b[39;00m \u001b[38;5;129;01mand\u001b[39;00m\n\u001b[1;32m    522\u001b[0m         parse_int \u001b[38;5;129;01mis\u001b[39;00m \u001b[38;5;28;01mNone\u001b[39;00m \u001b[38;5;129;01mand\u001b[39;00m parse_float \u001b[38;5;129;01mis\u001b[39;00m \u001b[38;5;28;01mNone\u001b[39;00m \u001b[38;5;129;01mand\u001b[39;00m\n\u001b[1;32m    523\u001b[0m         parse_constant \u001b[38;5;129;01mis\u001b[39;00m \u001b[38;5;28;01mNone\u001b[39;00m \u001b[38;5;129;01mand\u001b[39;00m object_pairs_hook \u001b[38;5;129;01mis\u001b[39;00m \u001b[38;5;28;01mNone\u001b[39;00m\n\u001b[1;32m    524\u001b[0m         \u001b[38;5;129;01mand\u001b[39;00m \u001b[38;5;129;01mnot\u001b[39;00m use_decimal \u001b[38;5;129;01mand\u001b[39;00m \u001b[38;5;129;01mnot\u001b[39;00m kw):\n\u001b[0;32m--> 525\u001b[0m     \u001b[38;5;28;01mreturn\u001b[39;00m \u001b[43m_default_decoder\u001b[49m\u001b[38;5;241;43m.\u001b[39;49m\u001b[43mdecode\u001b[49m\u001b[43m(\u001b[49m\u001b[43ms\u001b[49m\u001b[43m)\u001b[49m\n\u001b[1;32m    526\u001b[0m \u001b[38;5;28;01mif\u001b[39;00m \u001b[38;5;28mcls\u001b[39m \u001b[38;5;129;01mis\u001b[39;00m \u001b[38;5;28;01mNone\u001b[39;00m:\n\u001b[1;32m    527\u001b[0m     \u001b[38;5;28mcls\u001b[39m \u001b[38;5;241m=\u001b[39m JSONDecoder\n",
      "File \u001b[0;32m~/opt/anaconda3/envs/newautoriftenv/lib/python3.9/site-packages/simplejson/decoder.py:370\u001b[0m, in \u001b[0;36mJSONDecoder.decode\u001b[0;34m(self, s, _w, _PY3)\u001b[0m\n\u001b[1;32m    368\u001b[0m \u001b[38;5;28;01mif\u001b[39;00m _PY3 \u001b[38;5;129;01mand\u001b[39;00m \u001b[38;5;28misinstance\u001b[39m(s, \u001b[38;5;28mbytes\u001b[39m):\n\u001b[1;32m    369\u001b[0m     s \u001b[38;5;241m=\u001b[39m \u001b[38;5;28mstr\u001b[39m(s, \u001b[38;5;28mself\u001b[39m\u001b[38;5;241m.\u001b[39mencoding)\n\u001b[0;32m--> 370\u001b[0m obj, end \u001b[38;5;241m=\u001b[39m \u001b[38;5;28;43mself\u001b[39;49m\u001b[38;5;241;43m.\u001b[39;49m\u001b[43mraw_decode\u001b[49m\u001b[43m(\u001b[49m\u001b[43ms\u001b[49m\u001b[43m)\u001b[49m\n\u001b[1;32m    371\u001b[0m end \u001b[38;5;241m=\u001b[39m _w(s, end)\u001b[38;5;241m.\u001b[39mend()\n\u001b[1;32m    372\u001b[0m \u001b[38;5;28;01mif\u001b[39;00m end \u001b[38;5;241m!=\u001b[39m \u001b[38;5;28mlen\u001b[39m(s):\n",
      "File \u001b[0;32m~/opt/anaconda3/envs/newautoriftenv/lib/python3.9/site-packages/simplejson/decoder.py:400\u001b[0m, in \u001b[0;36mJSONDecoder.raw_decode\u001b[0;34m(self, s, idx, _w, _PY3)\u001b[0m\n\u001b[1;32m    398\u001b[0m     \u001b[38;5;28;01melif\u001b[39;00m ord0 \u001b[38;5;241m==\u001b[39m \u001b[38;5;241m0xef\u001b[39m \u001b[38;5;129;01mand\u001b[39;00m s[idx:idx \u001b[38;5;241m+\u001b[39m \u001b[38;5;241m3\u001b[39m] \u001b[38;5;241m==\u001b[39m \u001b[38;5;124m'\u001b[39m\u001b[38;5;130;01m\\xef\u001b[39;00m\u001b[38;5;130;01m\\xbb\u001b[39;00m\u001b[38;5;130;01m\\xbf\u001b[39;00m\u001b[38;5;124m'\u001b[39m:\n\u001b[1;32m    399\u001b[0m         idx \u001b[38;5;241m+\u001b[39m\u001b[38;5;241m=\u001b[39m \u001b[38;5;241m3\u001b[39m\n\u001b[0;32m--> 400\u001b[0m \u001b[38;5;28;01mreturn\u001b[39;00m \u001b[38;5;28;43mself\u001b[39;49m\u001b[38;5;241;43m.\u001b[39;49m\u001b[43mscan_once\u001b[49m\u001b[43m(\u001b[49m\u001b[43ms\u001b[49m\u001b[43m,\u001b[49m\u001b[43m \u001b[49m\u001b[43midx\u001b[49m\u001b[38;5;241;43m=\u001b[39;49m\u001b[43m_w\u001b[49m\u001b[43m(\u001b[49m\u001b[43ms\u001b[49m\u001b[43m,\u001b[49m\u001b[43m \u001b[49m\u001b[43midx\u001b[49m\u001b[43m)\u001b[49m\u001b[38;5;241;43m.\u001b[39;49m\u001b[43mend\u001b[49m\u001b[43m(\u001b[49m\u001b[43m)\u001b[49m\u001b[43m)\u001b[49m\n",
      "\u001b[0;31mJSONDecodeError\u001b[0m: Expecting value: line 1 column 1 (char 0)"
     ]
    }
   ],
   "source": [
    "# -----Poll the order every 10s until it outputs \"success,\" \"failed,\" or \"partial\"\n",
    "# Only continue to the next cell if outputs \"success\". Otherwise, try again or submit a new search request. \n",
    "orders.poll_for_success(order_url, auth)"
   ]
  },
  {
   "cell_type": "code",
   "execution_count": 16,
   "metadata": {},
   "outputs": [
    {
     "name": "stdout",
     "output_type": "stream",
     "text": [
      "{'_links': {'_self': 'https://api.planet.com/compute/ops/orders/v2/c2a3d7e1-10d6-4dc9-96d0-887e3b0980db'}, 'created_on': '2023-11-22T15:26:23.148Z', 'error_hints': [], 'id': 'c2a3d7e1-10d6-4dc9-96d0-887e3b0980db', 'last_message': 'Waiting for per-bundle operations to complete. Running 64, Succeeded 6, Failed: 0', 'last_modified': '2023-11-22T15:28:34.338Z', 'name': 'simple order', 'products': [{'item_ids': ['20200201_035612_0f36', '20200201_035613_0f36', '20200201_035613_1_0f36', '20200201_055821_57_1057', '20200201_055823_60_1057', '20200202_053542_1010', '20200202_053543_1010', '20200202_053544_1010', '20200202_053942_1009', '20200202_053943_1009', '20200202_053944_1009', '20200202_054924_35_1063', '20200202_054926_43_1063', '20200203_052655_0e20', '20200204_035350_1054', '20200205_053827_1035', '20200206_060135_90_1059', '20200206_060137_91_1059', '20200207_053933_1038', '20200207_053934_1038', '20200207_053935_1038', '20200207_054416_1026', '20200207_054417_1026', '20200207_054418_1026', '20200208_053835_1040', '20200208_053836_1040', '20200208_053837_1040', '20200209_053810_1035', '20200209_053811_1035', '20200209_053812_1035', '20200209_060017_61_105e', '20200209_060019_63_105e', '20200210_054732_78_1062', '20200211_054846_20_106d', '20200211_054848_25_106d', '20200212_054922_48_1065', '20200214_035512_0f44', '20200214_055214_02_105c', '20200214_055216_49_105c', '20200216_055924_67_1064', '20200216_055926_67_1064', '20200218_054539_78_106c', '20200218_054541_80_106c', '20200219_053838_1038', '20200219_053839_1038', '20200219_053840_1038', '20200221_035121_0f49', '20200221_035122_0f49', '20200221_035123_0f49', '20200221_060221_50_1061', '20200221_060223_51_1061', '20200222_054829_18_106c', '20200222_054831_20_106c', '20200223_054014_1039', '20200223_054015_1039', '20200223_054016_1039', '20200225_035558_0f2e', '20200225_053648_1035', '20200225_053650_1035', '20200226_035139_0f1a', '20200226_035140_0f1a', '20200226_035141_0f1a', '20200226_053917_1009', '20200226_053918_1009', '20200226_053919_1009', '20200228_035322_1050', '20200229_035033_0f36', '20200229_035034_0f36', '20200229_054136_103d', '20200229_054137_103d'], 'item_type': 'PSScene', 'product_bundle': 'analytic_sr_udm2'}], 'state': 'running', 'tools': [{'clip': {'aoi': {'coordinates': [[[72.11590328912425, 38.60800602108923], [72.27598755447261, 38.60800602108923], [72.27598755447261, 38.69963864785173], [72.11590328912425, 38.69963864785173], [72.11590328912425, 38.60800602108923]]], 'type': 'Polygon'}}}, {'harmonize': {'target_sensor': 'Sentinel-2'}}]}\n"
     ]
    },
    {
     "ename": "NameError",
     "evalue": "name 'results' is not defined",
     "output_type": "error",
     "traceback": [
      "\u001b[0;31m---------------------------------------------------------------------------\u001b[0m",
      "\u001b[0;31mNameError\u001b[0m                                 Traceback (most recent call last)",
      "Input \u001b[0;32mIn [16]\u001b[0m, in \u001b[0;36m<cell line: 7>\u001b[0;34m()\u001b[0m\n\u001b[1;32m      4\u001b[0m \u001b[38;5;28mprint\u001b[39m(response)\n\u001b[1;32m      5\u001b[0m \u001b[38;5;66;03m# results = response['_links']['results']\u001b[39;00m\n\u001b[1;32m      6\u001b[0m \u001b[38;5;66;03m# print all files to be downloaded from order\u001b[39;00m\n\u001b[0;32m----> 7\u001b[0m [r[\u001b[38;5;124m'\u001b[39m\u001b[38;5;124mname\u001b[39m\u001b[38;5;124m'\u001b[39m] \u001b[38;5;28;01mfor\u001b[39;00m r \u001b[38;5;129;01min\u001b[39;00m \u001b[43mresults\u001b[49m]\n",
      "\u001b[0;31mNameError\u001b[0m: name 'results' is not defined"
     ]
    }
   ],
   "source": [
    "# -----View results\n",
    "r = requests.get(order_url, auth=auth)\n",
    "response = r.json()\n",
    "print(response)\n",
    "# results = response['_links']['results']\n",
    "# print all files to be downloaded from order\n",
    "[r['name'] for r in results]"
   ]
  },
  {
   "cell_type": "code",
   "execution_count": 12,
   "metadata": {},
   "outputs": [
    {
     "name": "stdout",
     "output_type": "stream",
     "text": [
      "441 items to download\n"
     ]
    },
    {
     "data": {
      "application/json": {
       "ascii": false,
       "bar_format": null,
       "colour": null,
       "elapsed": 0.02547597885131836,
       "initial": 0,
       "n": 0,
       "ncols": null,
       "nrows": 24,
       "postfix": null,
       "prefix": "",
       "rate": null,
       "total": 441,
       "unit": "it",
       "unit_divisor": 1000,
       "unit_scale": false
      },
      "application/vnd.jupyter.widget-view+json": {
       "model_id": "b3662563cc0c49dbaac018ceb081c784",
       "version_major": 2,
       "version_minor": 0
      },
      "text/plain": [
       "  0%|          | 0/441 [00:00<?, ?it/s]"
      ]
     },
     "metadata": {},
     "output_type": "display_data"
    },
    {
     "ename": "OSError",
     "evalue": "[Errno 28] No space left on device: '/Volumes/SURGE_DISK/PS_downloads_AV/e3163f5b-6393-43d5-b124-dd98f9817aea'",
     "output_type": "error",
     "traceback": [
      "\u001b[0;31m---------------------------------------------------------------------------\u001b[0m",
      "\u001b[0;31mFileNotFoundError\u001b[0m                         Traceback (most recent call last)",
      "File \u001b[0;32m~/opt/anaconda3/envs/newautoriftenv/lib/python3.9/pathlib.py:1313\u001b[0m, in \u001b[0;36mPath.mkdir\u001b[0;34m(self, mode, parents, exist_ok)\u001b[0m\n\u001b[1;32m   1312\u001b[0m \u001b[38;5;28;01mtry\u001b[39;00m:\n\u001b[0;32m-> 1313\u001b[0m     \u001b[38;5;28;43mself\u001b[39;49m\u001b[38;5;241;43m.\u001b[39;49m\u001b[43m_accessor\u001b[49m\u001b[38;5;241;43m.\u001b[39;49m\u001b[43mmkdir\u001b[49m\u001b[43m(\u001b[49m\u001b[38;5;28;43mself\u001b[39;49m\u001b[43m,\u001b[49m\u001b[43m \u001b[49m\u001b[43mmode\u001b[49m\u001b[43m)\u001b[49m\n\u001b[1;32m   1314\u001b[0m \u001b[38;5;28;01mexcept\u001b[39;00m \u001b[38;5;167;01mFileNotFoundError\u001b[39;00m:\n",
      "\u001b[0;31mFileNotFoundError\u001b[0m: [Errno 2] No such file or directory: '/Volumes/SURGE_DISK/PS_downloads_AV/e3163f5b-6393-43d5-b124-dd98f9817aea/PSScene'",
      "\nDuring handling of the above exception, another exception occurred:\n",
      "\u001b[0;31mOSError\u001b[0m                                   Traceback (most recent call last)",
      "Input \u001b[0;32mIn [12]\u001b[0m, in \u001b[0;36m<cell line: 1>\u001b[0;34m()\u001b[0m\n\u001b[0;32m----> 1\u001b[0m \u001b[43morders\u001b[49m\u001b[38;5;241;43m.\u001b[39;49m\u001b[43mdownload_results\u001b[49m\u001b[43m(\u001b[49m\u001b[43mresults\u001b[49m\u001b[43m,\u001b[49m\u001b[43m \u001b[49m\u001b[43mout_folder\u001b[49m\u001b[43m)\u001b[49m\n",
      "File \u001b[0;32m~/Documents/GitHub/planet_tile2img/PlanetScope_orders_utils.py:182\u001b[0m, in \u001b[0;36mdownload_results\u001b[0;34m(results, out_folder, overwrite)\u001b[0m\n\u001b[1;32m    180\u001b[0m \u001b[38;5;28;01mif\u001b[39;00m overwrite \u001b[38;5;129;01mor\u001b[39;00m \u001b[38;5;129;01mnot\u001b[39;00m path\u001b[38;5;241m.\u001b[39mexists():\n\u001b[1;32m    181\u001b[0m     r \u001b[38;5;241m=\u001b[39m requests\u001b[38;5;241m.\u001b[39mget(url, allow_redirects\u001b[38;5;241m=\u001b[39m\u001b[38;5;28;01mTrue\u001b[39;00m)\n\u001b[0;32m--> 182\u001b[0m     \u001b[43mpath\u001b[49m\u001b[38;5;241;43m.\u001b[39;49m\u001b[43mparent\u001b[49m\u001b[38;5;241;43m.\u001b[39;49m\u001b[43mmkdir\u001b[49m\u001b[43m(\u001b[49m\u001b[43mparents\u001b[49m\u001b[38;5;241;43m=\u001b[39;49m\u001b[38;5;28;43;01mTrue\u001b[39;49;00m\u001b[43m,\u001b[49m\u001b[43m \u001b[49m\u001b[43mexist_ok\u001b[49m\u001b[38;5;241;43m=\u001b[39;49m\u001b[38;5;28;43;01mTrue\u001b[39;49;00m\u001b[43m)\u001b[49m\n\u001b[1;32m    183\u001b[0m     \u001b[38;5;28mopen\u001b[39m(path, \u001b[38;5;124m'\u001b[39m\u001b[38;5;124mwb\u001b[39m\u001b[38;5;124m'\u001b[39m)\u001b[38;5;241m.\u001b[39mwrite(r\u001b[38;5;241m.\u001b[39mcontent)\n\u001b[1;32m    184\u001b[0m \u001b[38;5;28;01melse\u001b[39;00m:\n",
      "File \u001b[0;32m~/opt/anaconda3/envs/newautoriftenv/lib/python3.9/pathlib.py:1317\u001b[0m, in \u001b[0;36mPath.mkdir\u001b[0;34m(self, mode, parents, exist_ok)\u001b[0m\n\u001b[1;32m   1315\u001b[0m     \u001b[38;5;28;01mif\u001b[39;00m \u001b[38;5;129;01mnot\u001b[39;00m parents \u001b[38;5;129;01mor\u001b[39;00m \u001b[38;5;28mself\u001b[39m\u001b[38;5;241m.\u001b[39mparent \u001b[38;5;241m==\u001b[39m \u001b[38;5;28mself\u001b[39m:\n\u001b[1;32m   1316\u001b[0m         \u001b[38;5;28;01mraise\u001b[39;00m\n\u001b[0;32m-> 1317\u001b[0m     \u001b[38;5;28;43mself\u001b[39;49m\u001b[38;5;241;43m.\u001b[39;49m\u001b[43mparent\u001b[49m\u001b[38;5;241;43m.\u001b[39;49m\u001b[43mmkdir\u001b[49m\u001b[43m(\u001b[49m\u001b[43mparents\u001b[49m\u001b[38;5;241;43m=\u001b[39;49m\u001b[38;5;28;43;01mTrue\u001b[39;49;00m\u001b[43m,\u001b[49m\u001b[43m \u001b[49m\u001b[43mexist_ok\u001b[49m\u001b[38;5;241;43m=\u001b[39;49m\u001b[38;5;28;43;01mTrue\u001b[39;49;00m\u001b[43m)\u001b[49m\n\u001b[1;32m   1318\u001b[0m     \u001b[38;5;28mself\u001b[39m\u001b[38;5;241m.\u001b[39mmkdir(mode, parents\u001b[38;5;241m=\u001b[39m\u001b[38;5;28;01mFalse\u001b[39;00m, exist_ok\u001b[38;5;241m=\u001b[39mexist_ok)\n\u001b[1;32m   1319\u001b[0m \u001b[38;5;28;01mexcept\u001b[39;00m \u001b[38;5;167;01mOSError\u001b[39;00m:\n\u001b[1;32m   1320\u001b[0m     \u001b[38;5;66;03m# Cannot rely on checking for EEXIST, since the operating system\u001b[39;00m\n\u001b[1;32m   1321\u001b[0m     \u001b[38;5;66;03m# could give priority to other errors like EACCES or EROFS\u001b[39;00m\n",
      "File \u001b[0;32m~/opt/anaconda3/envs/newautoriftenv/lib/python3.9/pathlib.py:1313\u001b[0m, in \u001b[0;36mPath.mkdir\u001b[0;34m(self, mode, parents, exist_ok)\u001b[0m\n\u001b[1;32m   1309\u001b[0m \u001b[38;5;124;03m\"\"\"\u001b[39;00m\n\u001b[1;32m   1310\u001b[0m \u001b[38;5;124;03mCreate a new directory at this given path.\u001b[39;00m\n\u001b[1;32m   1311\u001b[0m \u001b[38;5;124;03m\"\"\"\u001b[39;00m\n\u001b[1;32m   1312\u001b[0m \u001b[38;5;28;01mtry\u001b[39;00m:\n\u001b[0;32m-> 1313\u001b[0m     \u001b[38;5;28;43mself\u001b[39;49m\u001b[38;5;241;43m.\u001b[39;49m\u001b[43m_accessor\u001b[49m\u001b[38;5;241;43m.\u001b[39;49m\u001b[43mmkdir\u001b[49m\u001b[43m(\u001b[49m\u001b[38;5;28;43mself\u001b[39;49m\u001b[43m,\u001b[49m\u001b[43m \u001b[49m\u001b[43mmode\u001b[49m\u001b[43m)\u001b[49m\n\u001b[1;32m   1314\u001b[0m \u001b[38;5;28;01mexcept\u001b[39;00m \u001b[38;5;167;01mFileNotFoundError\u001b[39;00m:\n\u001b[1;32m   1315\u001b[0m     \u001b[38;5;28;01mif\u001b[39;00m \u001b[38;5;129;01mnot\u001b[39;00m parents \u001b[38;5;129;01mor\u001b[39;00m \u001b[38;5;28mself\u001b[39m\u001b[38;5;241m.\u001b[39mparent \u001b[38;5;241m==\u001b[39m \u001b[38;5;28mself\u001b[39m:\n",
      "\u001b[0;31mOSError\u001b[0m: [Errno 28] No space left on device: '/Volumes/SURGE_DISK/PS_downloads_AV/e3163f5b-6393-43d5-b124-dd98f9817aea'"
     ]
    }
   ],
   "source": [
    "orders.download_results(results, out_folder)"
   ]
  },
  {
   "cell_type": "code",
   "execution_count": 55,
   "metadata": {},
   "outputs": [
    {
     "name": "stdout",
     "output_type": "stream",
     "text": [
      "Image downloaded to /Volumes/SURGE_DISK/PS_downloads_LO/2021-02/\n"
     ]
    }
   ],
   "source": [
    "# # rename folder using month-day combination\n",
    "# folderid = results[0]['name'].split('/')[0] # grab the folder id\n",
    "# os.rename(out_folder+folderid, out_folder+start_date[:7]+'/')\n",
    "# print('Image downloaded to',out_folder+start_date[:7]+'/')"
   ]
  },
  {
   "cell_type": "markdown",
   "metadata": {},
   "source": [
    "## You did it!\n",
    "\n",
    "<div>\n",
    "<img src=\"sandy-cheeks.jpeg\" width=\"400\"/>\n",
    "</div>"
   ]
  }
 ],
 "metadata": {
  "kernelspec": {
   "display_name": "Python 3 (ipykernel)",
   "language": "python",
   "name": "python3"
  },
  "language_info": {
   "codemirror_mode": {
    "name": "ipython",
    "version": 3
   },
   "file_extension": ".py",
   "mimetype": "text/x-python",
   "name": "python",
   "nbconvert_exporter": "python",
   "pygments_lexer": "ipython3",
   "version": "3.9.6"
  }
 },
 "nbformat": 4,
 "nbformat_minor": 4
}
