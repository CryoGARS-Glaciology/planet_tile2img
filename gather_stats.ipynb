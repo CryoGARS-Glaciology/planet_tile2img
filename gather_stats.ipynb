{
 "cells": [
  {
   "cell_type": "markdown",
   "id": "ab73c2de",
   "metadata": {},
   "source": [
    "# Gather number of tiles and satellite passes for days in the month"
   ]
  },
  {
   "cell_type": "code",
   "execution_count": 66,
   "id": "76f36da5",
   "metadata": {},
   "outputs": [],
   "source": [
    "import os\n",
    "import pandas as pd\n",
    "import matplotlib.pyplot as plt\n",
    "import glob\n",
    "import datetime\n",
    "import shutil"
   ]
  },
  {
   "cell_type": "markdown",
   "id": "d9ed4f9e",
   "metadata": {},
   "source": [
    "inputs: -img_folder -out_path"
   ]
  },
  {
   "cell_type": "code",
   "execution_count": null,
   "id": "9c331017",
   "metadata": {},
   "outputs": [],
   "source": [
    "import sys\n",
    "args = sys.argv\n",
    "folderpath = args[1] # path to monthly folder"
   ]
  },
  {
   "cell_type": "code",
   "execution_count": 68,
   "id": "e2ce0d9e",
   "metadata": {},
   "outputs": [],
   "source": [
    "# folderpath = '/Volumes/SURGE_DISK/PS_downloads_SK/2021-05/' # path to folders with downloaded images (monthly_"
   ]
  },
  {
   "cell_type": "code",
   "execution_count": 76,
   "id": "0b9a8c8e",
   "metadata": {},
   "outputs": [
    {
     "data": {
      "text/html": [
       "<div>\n",
       "<style scoped>\n",
       "    .dataframe tbody tr th:only-of-type {\n",
       "        vertical-align: middle;\n",
       "    }\n",
       "\n",
       "    .dataframe tbody tr th {\n",
       "        vertical-align: top;\n",
       "    }\n",
       "\n",
       "    .dataframe thead th {\n",
       "        text-align: right;\n",
       "    }\n",
       "</style>\n",
       "<table border=\"1\" class=\"dataframe\">\n",
       "  <thead>\n",
       "    <tr style=\"text-align: right;\">\n",
       "      <th></th>\n",
       "      <th>date</th>\n",
       "      <th>sat_ID</th>\n",
       "    </tr>\n",
       "  </thead>\n",
       "  <tbody>\n",
       "    <tr>\n",
       "      <th>0</th>\n",
       "      <td>20210501</td>\n",
       "      <td>106c</td>\n",
       "    </tr>\n",
       "    <tr>\n",
       "      <th>1</th>\n",
       "      <td>20210501</td>\n",
       "      <td>2401</td>\n",
       "    </tr>\n",
       "    <tr>\n",
       "      <th>2</th>\n",
       "      <td>20210502</td>\n",
       "      <td>106d</td>\n",
       "    </tr>\n",
       "    <tr>\n",
       "      <th>3</th>\n",
       "      <td>20210503</td>\n",
       "      <td>105c</td>\n",
       "    </tr>\n",
       "    <tr>\n",
       "      <th>4</th>\n",
       "      <td>20210503</td>\n",
       "      <td>1065</td>\n",
       "    </tr>\n",
       "  </tbody>\n",
       "</table>\n",
       "</div>"
      ],
      "text/plain": [
       "       date sat_ID\n",
       "0  20210501   106c\n",
       "1  20210501   2401\n",
       "2  20210502   106d\n",
       "3  20210503   105c\n",
       "4  20210503   1065"
      ]
     },
     "execution_count": 76,
     "metadata": {},
     "output_type": "execute_result"
    }
   ],
   "source": [
    "# grab all satellite IDs and dates of imagery\n",
    "filelist = os.listdir(folderpath+'PSScene/'); filelist.sort()\n",
    "dates = []; IDs = []; files = []\n",
    "no_tiles  = 0\n",
    "for file in filelist:\n",
    "    if file.startswith('2') and file.endswith('harmonized_clip.tif'):\n",
    "        date = file.split('_')[0] # grab the date\n",
    "        sID = file.split('_')[-6] # grab the satellite ID (4 digit code)\n",
    "        dates.append(date); IDs.append(sID); files.append(file) # append to list\n",
    "        no_tiles+=1\n",
    "sorted_dates = list(set(list(zip(dates, IDs)))) # set of the zipped date and ID\n",
    "sorted_dates.sort() # sorted\n",
    "satdate_df = pd.DataFrame(sorted_dates, columns=['date','sat_ID'])\n",
    "satdate_df.head()"
   ]
  },
  {
   "cell_type": "code",
   "execution_count": 77,
   "id": "3709fef1",
   "metadata": {},
   "outputs": [
    {
     "name": "stdout",
     "output_type": "stream",
     "text": [
      "['20210501', '20210502', '20210503', '20210505', '20210510', '20210512', '20210517', '20210518', '20210519', '20210523', '20210524', '20210525', '20210526', '20210527']\n",
      "For 2021 month 05 :\n",
      "61 total image tiles were acquired\n",
      "over 14 days\n"
     ]
    }
   ],
   "source": [
    "# Print stats for the month:\n",
    "unique_dates = list(set(satdate_df.date))\n",
    "unique_dates.sort()\n",
    "print(unique_dates)\n",
    "print('For',unique_dates[0][:4], 'month', unique_dates[0][4:6],':')\n",
    "print(no_tiles, 'total image tiles were acquired')\n",
    "print('over',len(unique_dates),'days')"
   ]
  },
  {
   "cell_type": "code",
   "execution_count": 78,
   "id": "26e2b6d4",
   "metadata": {},
   "outputs": [],
   "source": [
    "# count number of satellites per day and number of tiles per day\n",
    "satdates = []; no_sats = []; no_tiles_day = [];\n",
    "\n",
    "for datestr in unique_dates:\n",
    "    sat_df = satdate_df[satdate_df.date == datestr]\n",
    "    sats_per_day = len(sat_df)\n",
    "    satdates.append(datestr); no_sats.append(sats_per_day)\n",
    "    \n",
    "    tile_count = 0\n",
    "    for idx, row in sat_df.iterrows():\n",
    "        tile_count+=len(glob.glob(folderpath+'PSScene/*'+datestr+'*'+row.sat_ID+'*harmonized_clip_5m.tif'))\n",
    "    no_tiles_day.append(tile_count)"
   ]
  },
  {
   "cell_type": "code",
   "execution_count": 79,
   "id": "473699d0",
   "metadata": {},
   "outputs": [
    {
     "data": {
      "image/png": "[encoded data removed]",
      "text/plain": [
       "<Figure size 1296x504 with 1 Axes>"
      ]
     },
     "metadata": {
      "needs_background": "light"
     },
     "output_type": "display_data"
    }
   ],
   "source": [
    "# plot\n",
    "fs = 16\n",
    "plt.figure(figsize=(18,7))\n",
    "plt.bar(pd.to_datetime(satdates, format='%Y%m%d'), no_tiles_day)\n",
    "plt.bar(pd.to_datetime(satdates, format='%Y%m%d'), no_sats)\n",
    "plt.xlim(datetime.datetime(int(unique_dates[0][:4]),int(unique_dates[0][4:6]),1))\n",
    "plt.xticks(rotation=30,fontsize=fs)\n",
    "plt.yticks(fontsize=fs)\n",
    "plt.ylabel('Count',fontsize=fs)\n",
    "plt.title('PlanetScope image tiles per day',fontsize=fs)\n",
    "plt.legend(['# tiles','# satellites'],fontsize=fs)\n",
    "plt.grid()\n",
    "plt.tight_layout()\n",
    "plt.savefig(folderpath+'image_availability_summary.png', dpi=300)# export graph as img png\n",
    "# plt.show()"
   ]
  },
  {
   "cell_type": "code",
   "execution_count": 60,
   "id": "c735b28a",
   "metadata": {},
   "outputs": [],
   "source": [
    "# export data as CSV file for month\n",
    "data_df = pd.DataFrame(list(zip(satdates, no_tiles_day, no_sats)),columns=['dates','tiles','sats'])\n",
    "# data_df\n",
    "data_df.to_csv(folderpath+'image_availability_summary.csv')"
   ]
  },
  {
   "cell_type": "code",
   "execution_count": 64,
   "id": "d6736ac7",
   "metadata": {},
   "outputs": [],
   "source": [
    "# delete all raw imagery\n",
    "DELETE_LIST = []\n",
    "DELETE_LIST.extend(glob.glob(folderpath+'PSScene/*json'))\n",
    "DELETE_LIST.extend(glob.glob(folderpath+'PSScene/*.tif'))\n",
    "DELETE_LIST.extend(glob.glob(folderpath+'PSScene/*.xml'))\n",
    "for file in DELETE_LIST:\n",
    "    os.remove(file)\n",
    "\n",
    "    # delete the reprojected folder\n",
    "shutil.rmtree(folderpath+'PSScene/reprojected/')"
   ]
  },
  {
   "cell_type": "code",
   "execution_count": null,
   "id": "547bad3e",
   "metadata": {},
   "outputs": [],
   "source": []
  }
 ],
 "metadata": {
  "kernelspec": {
   "display_name": "Python 3 (ipykernel)",
   "language": "python",
   "name": "python3"
  },
  "language_info": {
   "codemirror_mode": {
    "name": "ipython",
    "version": 3
   },
   "file_extension": ".py",
   "mimetype": "text/x-python",
   "name": "python",
   "nbconvert_exporter": "python",
   "pygments_lexer": "ipython3",
   "version": "3.9.6"
  }
 },
 "nbformat": 4,
 "nbformat_minor": 5
}
