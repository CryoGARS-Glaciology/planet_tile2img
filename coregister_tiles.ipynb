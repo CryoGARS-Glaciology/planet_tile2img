{
 "cells": [
  {
   "cell_type": "code",
   "execution_count": 51,
   "id": "60d8b824",
   "metadata": {},
   "outputs": [],
   "source": [
    "import rasterio\n",
    "import numpy\n",
    "import os\n",
    "import pandas as pd\n",
    "import matplotlib.pyplot as plt\n",
    "import datetime\n",
    "import glob"
   ]
  },
  {
   "cell_type": "markdown",
   "id": "25d6b5aa",
   "metadata": {},
   "source": [
    "# Grab all images from same satellite\n",
    "\n",
    "- cross-correlate images to find any systematic displacement\n",
    "- correct images by displacement (choose largest)\n",
    "- stitch together and adjust radiometry\n",
    "- re-write as the satellite image"
   ]
  },
  {
   "cell_type": "markdown",
   "id": "6ba12ed3",
   "metadata": {},
   "source": [
    "# Grab all satellite chunks\n",
    "\n",
    "- determine which has the greatest coverage of glacier and fewest clouds? and keep only the best\n",
    "\n",
    "OR \n",
    "\n",
    "- mosaick them all together"
   ]
  },
  {
   "cell_type": "markdown",
   "id": "f809f314",
   "metadata": {},
   "source": [
    "# Read in glacier outline"
   ]
  },
  {
   "cell_type": "code",
   "execution_count": null,
   "id": "47eb31ff",
   "metadata": {},
   "outputs": [],
   "source": [
    "shp_path = '/'"
   ]
  },
  {
   "cell_type": "code",
   "execution_count": 58,
   "id": "e70828bb",
   "metadata": {},
   "outputs": [],
   "source": [
    "folderpath = '/Volumes/LaCie/PS_downloads_SK/download/PSScene/' # path to folders with downloaded images (monthly_"
   ]
  },
  {
   "cell_type": "markdown",
   "id": "5b5595fa",
   "metadata": {},
   "source": [
    "# Gather number of tiles and satellite passes for days in the month"
   ]
  },
  {
   "cell_type": "code",
   "execution_count": 22,
   "id": "e71962c8",
   "metadata": {},
   "outputs": [
    {
     "data": {
      "text/html": [
       "<div>\n",
       "<style scoped>\n",
       "    .dataframe tbody tr th:only-of-type {\n",
       "        vertical-align: middle;\n",
       "    }\n",
       "\n",
       "    .dataframe tbody tr th {\n",
       "        vertical-align: top;\n",
       "    }\n",
       "\n",
       "    .dataframe thead th {\n",
       "        text-align: right;\n",
       "    }\n",
       "</style>\n",
       "<table border=\"1\" class=\"dataframe\">\n",
       "  <thead>\n",
       "    <tr style=\"text-align: right;\">\n",
       "      <th></th>\n",
       "      <th>date</th>\n",
       "      <th>sat_ID</th>\n",
       "    </tr>\n",
       "  </thead>\n",
       "  <tbody>\n",
       "    <tr>\n",
       "      <th>0</th>\n",
       "      <td>20200301</td>\n",
       "      <td>106f</td>\n",
       "    </tr>\n",
       "    <tr>\n",
       "      <th>1</th>\n",
       "      <td>20200302</td>\n",
       "      <td>105a</td>\n",
       "    </tr>\n",
       "    <tr>\n",
       "      <th>2</th>\n",
       "      <td>20200302</td>\n",
       "      <td>106b</td>\n",
       "    </tr>\n",
       "    <tr>\n",
       "      <th>3</th>\n",
       "      <td>20200303</td>\n",
       "      <td>1058</td>\n",
       "    </tr>\n",
       "    <tr>\n",
       "      <th>4</th>\n",
       "      <td>20200303</td>\n",
       "      <td>106c</td>\n",
       "    </tr>\n",
       "  </tbody>\n",
       "</table>\n",
       "</div>"
      ],
      "text/plain": [
       "       date sat_ID\n",
       "0  20200301   106f\n",
       "1  20200302   105a\n",
       "2  20200302   106b\n",
       "3  20200303   1058\n",
       "4  20200303   106c"
      ]
     },
     "execution_count": 22,
     "metadata": {},
     "output_type": "execute_result"
    }
   ],
   "source": [
    "# grab all satellite IDs and dates of imagery\n",
    "filelist = os.listdir(folderpath); filelist.sort()\n",
    "dates = []; IDs = []; files = []\n",
    "no_tiles  = 0\n",
    "for file in filelist:\n",
    "    if file.startswith('2') and file.endswith('harmonized_clip.tif'):\n",
    "        date = file.split('_')[0] # grab the date\n",
    "        sID = file.split('_')[-6] # grab the satellite ID (4 digit code)\n",
    "        dates.append(date); IDs.append(sID); files.append(file) # append to list\n",
    "        no_tiles+=1\n",
    "sorted_dates = list(set(list(zip(dates, IDs)))) # set of the zipped date and ID\n",
    "sorted_dates.sort() # sorted\n",
    "satdate_df = pd.DataFrame(sorted_dates, columns=['date','sat_ID'])\n",
    "satdate_df.head()"
   ]
  },
  {
   "cell_type": "code",
   "execution_count": 23,
   "id": "a453429b",
   "metadata": {},
   "outputs": [
    {
     "name": "stdout",
     "output_type": "stream",
     "text": [
      "['20200301', '20200302', '20200303', '20200304', '20200305', '20200306', '20200307', '20200308', '20200311', '20200312', '20200313', '20200314', '20200315', '20200316', '20200317', '20200318', '20200319', '20200320', '20200322', '20200323', '20200324', '20200325', '20200326', '20200327', '20200328', '20200329', '20200330']\n"
     ]
    }
   ],
   "source": [
    "# grab unique dates\n",
    "unique_dates = list(set(satdate_df.date))\n",
    "unique_dates.sort()\n",
    "print(unique_dates)"
   ]
  },
  {
   "cell_type": "code",
   "execution_count": 25,
   "id": "eeb69002",
   "metadata": {},
   "outputs": [
    {
     "name": "stdout",
     "output_type": "stream",
     "text": [
      "For 2020 month 03 :\n",
      "250 total image tiles were acquired\n",
      "over 27 days\n"
     ]
    }
   ],
   "source": [
    "# Print stats for the month:\n",
    "print('For',unique_dates[0][:4], 'month', unique_dates[0][4:6],':')\n",
    "print(no_tiles, 'total image tiles were acquired')\n",
    "print('over',len(unique_dates),'days')"
   ]
  },
  {
   "cell_type": "code",
   "execution_count": 70,
   "id": "9fe35768",
   "metadata": {},
   "outputs": [
    {
     "data": {
      "image/png": "[encoded data removed]",
      "text/plain": [
       "<Figure size 1296x504 with 1 Axes>"
      ]
     },
     "metadata": {
      "needs_background": "light"
     },
     "output_type": "display_data"
    }
   ],
   "source": [
    "# count number of satellites per day and number of tiles per day\n",
    "satdates = []; no_sats = []; no_tiles_day = [];\n",
    "\n",
    "for datestr in unique_dates:\n",
    "    sat_df = satdate_df[satdate_df.date == datestr]\n",
    "    sats_per_day = len(sat_df)\n",
    "    satdates.append(datestr); no_sats.append(sats_per_day)\n",
    "    \n",
    "    tile_count = 0\n",
    "    for idx, row in sat_df.iterrows():\n",
    "        tile_count+=len(glob.glob(folderpath+'*'+datestr+'*'+row.sat_ID+'*harmonized_clip.tif'))\n",
    "    no_tiles_day.append(tile_count)\n",
    "# avg_tiles_per_sat = \n",
    "# plot\n",
    "fs = 16\n",
    "plt.figure(figsize=(18,7))\n",
    "plt.bar(pd.to_datetime(satdates, format='%Y%m%d'), no_tiles_day)\n",
    "plt.bar(pd.to_datetime(satdates, format='%Y%m%d'), no_sats)\n",
    "plt.xlim(datetime.datetime(int(unique_dates[0][:4]),int(unique_dates[0][4:6]),1))\n",
    "plt.xticks(rotation=30,fontsize=fs)\n",
    "plt.yticks(fontsize=fs)\n",
    "plt.ylabel('Count',fontsize=fs)\n",
    "plt.title('PlanetScope image tiles per day',fontsize=fs)\n",
    "plt.legend(['# tiles','# satellites'],fontsize=fs)\n",
    "plt.grid()\n",
    "plt.tight_layout()\n",
    "plt.show()"
   ]
  },
  {
   "cell_type": "markdown",
   "id": "6210a841",
   "metadata": {},
   "source": [
    "# Coregister all tiles for each unique satellite pass"
   ]
  },
  {
   "cell_type": "code",
   "execution_count": 71,
   "id": "f98813e8",
   "metadata": {},
   "outputs": [
    {
     "name": "stdout",
     "output_type": "stream",
     "text": [
      "['/Volumes/LaCie/PS_downloads_SK/download/PSScene/20200301_192304_14_106f_3B_AnalyticMS_SR_harmonized_clip.tif', '/Volumes/LaCie/PS_downloads_SK/download/PSScene/20200301_192257_98_106f_3B_AnalyticMS_SR_harmonized_clip.tif', '/Volumes/LaCie/PS_downloads_SK/download/PSScene/20200301_192300_03_106f_3B_AnalyticMS_SR_harmonized_clip.tif', '/Volumes/LaCie/PS_downloads_SK/download/PSScene/20200301_192302_09_106f_3B_AnalyticMS_SR_harmonized_clip.tif']\n",
      "['/Volumes/LaCie/PS_downloads_SK/download/PSScene/20200302_204055_04_105a_3B_AnalyticMS_SR_harmonized_clip.tif', '/Volumes/LaCie/PS_downloads_SK/download/PSScene/20200302_204103_24_105a_3B_AnalyticMS_SR_harmonized_clip.tif', '/Volumes/LaCie/PS_downloads_SK/download/PSScene/20200302_204101_19_105a_3B_AnalyticMS_SR_harmonized_clip.tif', '/Volumes/LaCie/PS_downloads_SK/download/PSScene/20200302_204057_09_105a_3B_AnalyticMS_SR_harmonized_clip.tif', '/Volumes/LaCie/PS_downloads_SK/download/PSScene/20200302_204059_14_105a_3B_AnalyticMS_SR_harmonized_clip.tif']\n",
      "['/Volumes/LaCie/PS_downloads_SK/download/PSScene/20200302_192327_43_106b_3B_AnalyticMS_SR_harmonized_clip.tif', '/Volumes/LaCie/PS_downloads_SK/download/PSScene/20200302_192335_65_106b_3B_AnalyticMS_SR_harmonized_clip.tif', '/Volumes/LaCie/PS_downloads_SK/download/PSScene/20200302_192329_49_106b_3B_AnalyticMS_SR_harmonized_clip.tif', '/Volumes/LaCie/PS_downloads_SK/download/PSScene/20200302_192331_54_106b_3B_AnalyticMS_SR_harmonized_clip.tif', '/Volumes/LaCie/PS_downloads_SK/download/PSScene/20200302_192333_60_106b_3B_AnalyticMS_SR_harmonized_clip.tif']\n",
      "['/Volumes/LaCie/PS_downloads_SK/download/PSScene/20200303_204228_95_1058_3B_AnalyticMS_SR_harmonized_clip.tif', '/Volumes/LaCie/PS_downloads_SK/download/PSScene/20200303_204235_06_1058_3B_AnalyticMS_SR_harmonized_clip.tif', '/Volumes/LaCie/PS_downloads_SK/download/PSScene/20200303_204233_02_1058_3B_AnalyticMS_SR_harmonized_clip.tif', '/Volumes/LaCie/PS_downloads_SK/download/PSScene/20200303_204230_98_1058_3B_AnalyticMS_SR_harmonized_clip.tif']\n",
      "['/Volumes/LaCie/PS_downloads_SK/download/PSScene/20200303_192406_15_106c_3B_AnalyticMS_SR_harmonized_clip.tif', '/Volumes/LaCie/PS_downloads_SK/download/PSScene/20200303_192412_27_106c_3B_AnalyticMS_SR_harmonized_clip.tif', '/Volumes/LaCie/PS_downloads_SK/download/PSScene/20200303_192408_19_106c_3B_AnalyticMS_SR_harmonized_clip.tif', '/Volumes/LaCie/PS_downloads_SK/download/PSScene/20200303_192410_23_106c_3B_AnalyticMS_SR_harmonized_clip.tif']\n",
      "['/Volumes/LaCie/PS_downloads_SK/download/PSScene/20200304_203531_13_1064_3B_AnalyticMS_SR_harmonized_clip.tif', '/Volumes/LaCie/PS_downloads_SK/download/PSScene/20200304_203523_02_1064_3B_AnalyticMS_SR_harmonized_clip.tif', '/Volumes/LaCie/PS_downloads_SK/download/PSScene/20200304_203529_10_1064_3B_AnalyticMS_SR_harmonized_clip.tif', '/Volumes/LaCie/PS_downloads_SK/download/PSScene/20200304_203525_05_1064_3B_AnalyticMS_SR_harmonized_clip.tif', '/Volumes/LaCie/PS_downloads_SK/download/PSScene/20200304_203527_08_1064_3B_AnalyticMS_SR_harmonized_clip.tif']\n",
      "['/Volumes/LaCie/PS_downloads_SK/download/PSScene/20200304_192444_54_1068_3B_AnalyticMS_SR_harmonized_clip.tif', '/Volumes/LaCie/PS_downloads_SK/download/PSScene/20200304_192438_37_1068_3B_AnalyticMS_SR_harmonized_clip.tif', '/Volumes/LaCie/PS_downloads_SK/download/PSScene/20200304_192442_48_1068_3B_AnalyticMS_SR_harmonized_clip.tif', '/Volumes/LaCie/PS_downloads_SK/download/PSScene/20200304_192440_43_1068_3B_AnalyticMS_SR_harmonized_clip.tif']\n",
      "['/Volumes/LaCie/PS_downloads_SK/download/PSScene/20200305_192542_62_106f_3B_AnalyticMS_SR_harmonized_clip.tif', '/Volumes/LaCie/PS_downloads_SK/download/PSScene/20200305_192540_56_106f_3B_AnalyticMS_SR_harmonized_clip.tif', '/Volumes/LaCie/PS_downloads_SK/download/PSScene/20200305_192538_50_106f_3B_AnalyticMS_SR_harmonized_clip.tif']\n",
      "['/Volumes/LaCie/PS_downloads_SK/download/PSScene/20200306_204115_71_105d_3B_AnalyticMS_SR_harmonized_clip.tif', '/Volumes/LaCie/PS_downloads_SK/download/PSScene/20200306_204117_75_105d_3B_AnalyticMS_SR_harmonized_clip.tif']\n",
      "['/Volumes/LaCie/PS_downloads_SK/download/PSScene/20200306_192610_56_106b_3B_AnalyticMS_SR_harmonized_clip.tif', '/Volumes/LaCie/PS_downloads_SK/download/PSScene/20200306_192608_50_106b_3B_AnalyticMS_SR_harmonized_clip.tif']\n",
      "['/Volumes/LaCie/PS_downloads_SK/download/PSScene/20200307_192644_21_106c_3B_AnalyticMS_SR_harmonized_clip.tif', '/Volumes/LaCie/PS_downloads_SK/download/PSScene/20200307_192642_16_106c_3B_AnalyticMS_SR_harmonized_clip.tif']\n",
      "['/Volumes/LaCie/PS_downloads_SK/download/PSScene/20200308_203623_00_105e_3B_AnalyticMS_SR_harmonized_clip.tif', '/Volumes/LaCie/PS_downloads_SK/download/PSScene/20200308_203629_15_105e_3B_AnalyticMS_SR_harmonized_clip.tif', '/Volumes/LaCie/PS_downloads_SK/download/PSScene/20200308_203625_05_105e_3B_AnalyticMS_SR_harmonized_clip.tif', '/Volumes/LaCie/PS_downloads_SK/download/PSScene/20200308_203627_10_105e_3B_AnalyticMS_SR_harmonized_clip.tif']\n",
      "['/Volumes/LaCie/PS_downloads_SK/download/PSScene/20200311_200118_0e26_3B_AnalyticMS_SR_harmonized_clip.tif', '/Volumes/LaCie/PS_downloads_SK/download/PSScene/20200311_200117_0e26_3B_AnalyticMS_SR_harmonized_clip.tif', '/Volumes/LaCie/PS_downloads_SK/download/PSScene/20200311_200122_0e26_3B_AnalyticMS_SR_harmonized_clip.tif', '/Volumes/LaCie/PS_downloads_SK/download/PSScene/20200311_200116_0e26_3B_AnalyticMS_SR_harmonized_clip.tif', '/Volumes/LaCie/PS_downloads_SK/download/PSScene/20200311_200120_0e26_3B_AnalyticMS_SR_harmonized_clip.tif', '/Volumes/LaCie/PS_downloads_SK/download/PSScene/20200311_200119_0e26_3B_AnalyticMS_SR_harmonized_clip.tif']\n",
      "['/Volumes/LaCie/PS_downloads_SK/download/PSScene/20200311_201002_1008_3B_AnalyticMS_SR_harmonized_clip.tif', '/Volumes/LaCie/PS_downloads_SK/download/PSScene/20200311_201003_1008_3B_AnalyticMS_SR_harmonized_clip.tif', '/Volumes/LaCie/PS_downloads_SK/download/PSScene/20200311_201004_1008_3B_AnalyticMS_SR_harmonized_clip.tif', '/Volumes/LaCie/PS_downloads_SK/download/PSScene/20200311_201001_1008_3B_AnalyticMS_SR_harmonized_clip.tif', '/Volumes/LaCie/PS_downloads_SK/download/PSScene/20200311_201005_1008_3B_AnalyticMS_SR_harmonized_clip.tif', '/Volumes/LaCie/PS_downloads_SK/download/PSScene/20200311_201006_1008_3B_AnalyticMS_SR_harmonized_clip.tif']\n",
      "['/Volumes/LaCie/PS_downloads_SK/download/PSScene/20200311_192921_53_106c_3B_AnalyticMS_SR_harmonized_clip.tif', '/Volumes/LaCie/PS_downloads_SK/download/PSScene/20200311_192919_48_106c_3B_AnalyticMS_SR_harmonized_clip.tif', '/Volumes/LaCie/PS_downloads_SK/download/PSScene/20200311_192917_42_106c_3B_AnalyticMS_SR_harmonized_clip.tif']\n",
      "['/Volumes/LaCie/PS_downloads_SK/download/PSScene/20200312_201604_1003_3B_AnalyticMS_SR_harmonized_clip.tif', '/Volumes/LaCie/PS_downloads_SK/download/PSScene/20200312_201557_1003_3B_AnalyticMS_SR_harmonized_clip.tif', '/Volumes/LaCie/PS_downloads_SK/download/PSScene/20200312_201603_1003_3B_AnalyticMS_SR_harmonized_clip.tif', '/Volumes/LaCie/PS_downloads_SK/download/PSScene/20200312_201558_1003_3B_AnalyticMS_SR_harmonized_clip.tif', '/Volumes/LaCie/PS_downloads_SK/download/PSScene/20200312_201559_1003_3B_AnalyticMS_SR_harmonized_clip.tif', '/Volumes/LaCie/PS_downloads_SK/download/PSScene/20200312_201600_1003_3B_AnalyticMS_SR_harmonized_clip.tif', '/Volumes/LaCie/PS_downloads_SK/download/PSScene/20200312_201602_1003_3B_AnalyticMS_SR_harmonized_clip.tif', '/Volumes/LaCie/PS_downloads_SK/download/PSScene/20200312_201601_1003_3B_AnalyticMS_SR_harmonized_clip.tif']\n",
      "['/Volumes/LaCie/PS_downloads_SK/download/PSScene/20200312_201219_101f_3B_AnalyticMS_SR_harmonized_clip.tif', '/Volumes/LaCie/PS_downloads_SK/download/PSScene/20200312_201226_101f_3B_AnalyticMS_SR_harmonized_clip.tif', '/Volumes/LaCie/PS_downloads_SK/download/PSScene/20200312_201225_101f_3B_AnalyticMS_SR_harmonized_clip.tif', '/Volumes/LaCie/PS_downloads_SK/download/PSScene/20200312_201222_101f_3B_AnalyticMS_SR_harmonized_clip.tif', '/Volumes/LaCie/PS_downloads_SK/download/PSScene/20200312_201221_101f_3B_AnalyticMS_SR_harmonized_clip.tif', '/Volumes/LaCie/PS_downloads_SK/download/PSScene/20200312_201224_101f_3B_AnalyticMS_SR_harmonized_clip.tif', '/Volumes/LaCie/PS_downloads_SK/download/PSScene/20200312_201223_101f_3B_AnalyticMS_SR_harmonized_clip.tif']\n",
      "['/Volumes/LaCie/PS_downloads_SK/download/PSScene/20200312_192208_09_1063_3B_AnalyticMS_SR_harmonized_clip.tif', '/Volumes/LaCie/PS_downloads_SK/download/PSScene/20200312_192201_85_1063_3B_AnalyticMS_SR_harmonized_clip.tif', '/Volumes/LaCie/PS_downloads_SK/download/PSScene/20200312_192203_93_1063_3B_AnalyticMS_SR_harmonized_clip.tif', '/Volumes/LaCie/PS_downloads_SK/download/PSScene/20200312_192206_01_1063_3B_AnalyticMS_SR_harmonized_clip.tif', '/Volumes/LaCie/PS_downloads_SK/download/PSScene/20200312_192159_76_1063_3B_AnalyticMS_SR_harmonized_clip.tif']\n",
      "['/Volumes/LaCie/PS_downloads_SK/download/PSScene/20200313_201357_1012_3B_AnalyticMS_SR_harmonized_clip.tif']\n",
      "['/Volumes/LaCie/PS_downloads_SK/download/PSScene/20200313_203931_35_105a_3B_AnalyticMS_SR_harmonized_clip.tif', '/Volumes/LaCie/PS_downloads_SK/download/PSScene/20200313_203933_42_105a_3B_AnalyticMS_SR_harmonized_clip.tif', '/Volumes/LaCie/PS_downloads_SK/download/PSScene/20200313_203935_49_105a_3B_AnalyticMS_SR_harmonized_clip.tif']\n",
      "['/Volumes/LaCie/PS_downloads_SK/download/PSScene/20200313_192302_55_106e_3B_AnalyticMS_SR_harmonized_clip.tif', '/Volumes/LaCie/PS_downloads_SK/download/PSScene/20200313_192304_64_106e_3B_AnalyticMS_SR_harmonized_clip.tif', '/Volumes/LaCie/PS_downloads_SK/download/PSScene/20200313_192306_73_106e_3B_AnalyticMS_SR_harmonized_clip.tif']\n",
      "['/Volumes/LaCie/PS_downloads_SK/download/PSScene/20200314_201145_0f28_3B_AnalyticMS_SR_harmonized_clip.tif', '/Volumes/LaCie/PS_downloads_SK/download/PSScene/20200314_201150_0f28_3B_AnalyticMS_SR_harmonized_clip.tif', '/Volumes/LaCie/PS_downloads_SK/download/PSScene/20200314_201148_0f28_3B_AnalyticMS_SR_harmonized_clip.tif', '/Volumes/LaCie/PS_downloads_SK/download/PSScene/20200314_201147_0f28_3B_AnalyticMS_SR_harmonized_clip.tif', '/Volumes/LaCie/PS_downloads_SK/download/PSScene/20200314_201149_0f28_3B_AnalyticMS_SR_harmonized_clip.tif']\n",
      "['/Volumes/LaCie/PS_downloads_SK/download/PSScene/20200314_173229_0f2e_3B_AnalyticMS_SR_harmonized_clip.tif', '/Volumes/LaCie/PS_downloads_SK/download/PSScene/20200314_173228_0f2e_3B_AnalyticMS_SR_harmonized_clip.tif', '/Volumes/LaCie/PS_downloads_SK/download/PSScene/20200314_173227_0f2e_3B_AnalyticMS_SR_harmonized_clip.tif', '/Volumes/LaCie/PS_downloads_SK/download/PSScene/20200314_173231_0f2e_3B_AnalyticMS_SR_harmonized_clip.tif']\n",
      "['/Volumes/LaCie/PS_downloads_SK/download/PSScene/20200315_200934_1008_3B_AnalyticMS_SR_harmonized_clip.tif', '/Volumes/LaCie/PS_downloads_SK/download/PSScene/20200315_200933_1008_3B_AnalyticMS_SR_harmonized_clip.tif']\n",
      "['/Volumes/LaCie/PS_downloads_SK/download/PSScene/20200315_201749_1032_3B_AnalyticMS_SR_harmonized_clip.tif', '/Volumes/LaCie/PS_downloads_SK/download/PSScene/20200315_201747_1032_3B_AnalyticMS_SR_harmonized_clip.tif', '/Volumes/LaCie/PS_downloads_SK/download/PSScene/20200315_201748_1032_3B_AnalyticMS_SR_harmonized_clip.tif', '/Volumes/LaCie/PS_downloads_SK/download/PSScene/20200315_201744_1032_3B_AnalyticMS_SR_harmonized_clip.tif', '/Volumes/LaCie/PS_downloads_SK/download/PSScene/20200315_201745_1032_3B_AnalyticMS_SR_harmonized_clip.tif', '/Volumes/LaCie/PS_downloads_SK/download/PSScene/20200315_201743_1032_3B_AnalyticMS_SR_harmonized_clip.tif', '/Volumes/LaCie/PS_downloads_SK/download/PSScene/20200315_201746_1032_3B_AnalyticMS_SR_harmonized_clip.tif']\n",
      "['/Volumes/LaCie/PS_downloads_SK/download/PSScene/20200315_192405_67_1069_3B_AnalyticMS_SR_harmonized_clip.tif', '/Volumes/LaCie/PS_downloads_SK/download/PSScene/20200315_192357_44_1069_3B_AnalyticMS_SR_harmonized_clip.tif', '/Volumes/LaCie/PS_downloads_SK/download/PSScene/20200315_192403_61_1069_3B_AnalyticMS_SR_harmonized_clip.tif', '/Volumes/LaCie/PS_downloads_SK/download/PSScene/20200315_192401_56_1069_3B_AnalyticMS_SR_harmonized_clip.tif', '/Volumes/LaCie/PS_downloads_SK/download/PSScene/20200315_192359_50_1069_3B_AnalyticMS_SR_harmonized_clip.tif']\n",
      "['/Volumes/LaCie/PS_downloads_SK/download/PSScene/20200316_172913_0f32_3B_AnalyticMS_SR_harmonized_clip.tif', '/Volumes/LaCie/PS_downloads_SK/download/PSScene/20200316_172907_0f32_3B_AnalyticMS_SR_harmonized_clip.tif', '/Volumes/LaCie/PS_downloads_SK/download/PSScene/20200316_172913_1_0f32_3B_AnalyticMS_SR_harmonized_clip.tif', '/Volumes/LaCie/PS_downloads_SK/download/PSScene/20200316_172910_0f32_3B_AnalyticMS_SR_harmonized_clip.tif', '/Volumes/LaCie/PS_downloads_SK/download/PSScene/20200316_172909_0f32_3B_AnalyticMS_SR_harmonized_clip.tif', '/Volumes/LaCie/PS_downloads_SK/download/PSScene/20200316_172912_0f32_3B_AnalyticMS_SR_harmonized_clip.tif', '/Volumes/LaCie/PS_downloads_SK/download/PSScene/20200316_172911_0f32_3B_AnalyticMS_SR_harmonized_clip.tif', '/Volumes/LaCie/PS_downloads_SK/download/PSScene/20200316_172908_0f32_3B_AnalyticMS_SR_harmonized_clip.tif']\n",
      "['/Volumes/LaCie/PS_downloads_SK/download/PSScene/20200316_203620_90_1059_3B_AnalyticMS_SR_harmonized_clip.tif', '/Volumes/LaCie/PS_downloads_SK/download/PSScene/20200316_203622_95_1059_3B_AnalyticMS_SR_harmonized_clip.tif']\n",
      "['/Volumes/LaCie/PS_downloads_SK/download/PSScene/20200316_192429_47_1063_3B_AnalyticMS_SR_harmonized_clip.tif', '/Volumes/LaCie/PS_downloads_SK/download/PSScene/20200316_192437_83_1063_3B_AnalyticMS_SR_harmonized_clip.tif', '/Volumes/LaCie/PS_downloads_SK/download/PSScene/20200316_192435_74_1063_3B_AnalyticMS_SR_harmonized_clip.tif', '/Volumes/LaCie/PS_downloads_SK/download/PSScene/20200316_192431_56_1063_3B_AnalyticMS_SR_harmonized_clip.tif', '/Volumes/LaCie/PS_downloads_SK/download/PSScene/20200316_192433_65_1063_3B_AnalyticMS_SR_harmonized_clip.tif']\n",
      "['/Volumes/LaCie/PS_downloads_SK/download/PSScene/20200317_201017_100a_3B_AnalyticMS_SR_harmonized_clip.tif', '/Volumes/LaCie/PS_downloads_SK/download/PSScene/20200317_201016_100a_3B_AnalyticMS_SR_harmonized_clip.tif', '/Volumes/LaCie/PS_downloads_SK/download/PSScene/20200317_201019_100a_3B_AnalyticMS_SR_harmonized_clip.tif', '/Volumes/LaCie/PS_downloads_SK/download/PSScene/20200317_201018_100a_3B_AnalyticMS_SR_harmonized_clip.tif']\n",
      "['/Volumes/LaCie/PS_downloads_SK/download/PSScene/20200317_201847_1027_3B_AnalyticMS_SR_harmonized_clip.tif', '/Volumes/LaCie/PS_downloads_SK/download/PSScene/20200317_201848_1027_3B_AnalyticMS_SR_harmonized_clip.tif', '/Volumes/LaCie/PS_downloads_SK/download/PSScene/20200317_201845_1027_3B_AnalyticMS_SR_harmonized_clip.tif']\n",
      "['/Volumes/LaCie/PS_downloads_SK/download/PSScene/20200317_192533_26_106e_3B_AnalyticMS_SR_harmonized_clip.tif', '/Volumes/LaCie/PS_downloads_SK/download/PSScene/20200317_192539_56_106e_3B_AnalyticMS_SR_harmonized_clip.tif', '/Volumes/LaCie/PS_downloads_SK/download/PSScene/20200317_192535_36_106e_3B_AnalyticMS_SR_harmonized_clip.tif', '/Volumes/LaCie/PS_downloads_SK/download/PSScene/20200317_192537_46_106e_3B_AnalyticMS_SR_harmonized_clip.tif']\n",
      "['/Volumes/LaCie/PS_downloads_SK/download/PSScene/20200318_192601_04_106a_3B_AnalyticMS_SR_harmonized_clip.tif', '/Volumes/LaCie/PS_downloads_SK/download/PSScene/20200318_192552_65_106a_3B_AnalyticMS_SR_harmonized_clip.tif', '/Volumes/LaCie/PS_downloads_SK/download/PSScene/20200318_192554_74_106a_3B_AnalyticMS_SR_harmonized_clip.tif', '/Volumes/LaCie/PS_downloads_SK/download/PSScene/20200318_192558_94_106a_3B_AnalyticMS_SR_harmonized_clip.tif', '/Volumes/LaCie/PS_downloads_SK/download/PSScene/20200318_192556_84_106a_3B_AnalyticMS_SR_harmonized_clip.tif']\n",
      "['/Volumes/LaCie/PS_downloads_SK/download/PSScene/20200319_195420_0e19_3B_AnalyticMS_SR_harmonized_clip.tif']\n",
      "['/Volumes/LaCie/PS_downloads_SK/download/PSScene/20200319_192624_39_1069_3B_AnalyticMS_SR_harmonized_clip.tif', '/Volumes/LaCie/PS_downloads_SK/download/PSScene/20200319_192632_65_1069_3B_AnalyticMS_SR_harmonized_clip.tif', '/Volumes/LaCie/PS_downloads_SK/download/PSScene/20200319_192628_52_1069_3B_AnalyticMS_SR_harmonized_clip.tif', '/Volumes/LaCie/PS_downloads_SK/download/PSScene/20200319_192626_46_1069_3B_AnalyticMS_SR_harmonized_clip.tif', '/Volumes/LaCie/PS_downloads_SK/download/PSScene/20200319_192630_59_1069_3B_AnalyticMS_SR_harmonized_clip.tif']\n",
      "['/Volumes/LaCie/PS_downloads_SK/download/PSScene/20200320_201520_1003_3B_AnalyticMS_SR_harmonized_clip.tif', '/Volumes/LaCie/PS_downloads_SK/download/PSScene/20200320_201513_1003_3B_AnalyticMS_SR_harmonized_clip.tif', '/Volumes/LaCie/PS_downloads_SK/download/PSScene/20200320_201519_1003_3B_AnalyticMS_SR_harmonized_clip.tif', '/Volumes/LaCie/PS_downloads_SK/download/PSScene/20200320_201514_1003_3B_AnalyticMS_SR_harmonized_clip.tif', '/Volumes/LaCie/PS_downloads_SK/download/PSScene/20200320_201515_1003_3B_AnalyticMS_SR_harmonized_clip.tif']\n",
      "['/Volumes/LaCie/PS_downloads_SK/download/PSScene/20200320_201429_103e_3B_AnalyticMS_SR_harmonized_clip.tif', '/Volumes/LaCie/PS_downloads_SK/download/PSScene/20200320_201426_103e_3B_AnalyticMS_SR_harmonized_clip.tif']\n",
      "['/Volumes/LaCie/PS_downloads_SK/download/PSScene/20200322_204124_27_1064_3B_AnalyticMS_SR_harmonized_clip.tif', '/Volumes/LaCie/PS_downloads_SK/download/PSScene/20200322_204116_11_1064_3B_AnalyticMS_SR_harmonized_clip.tif', '/Volumes/LaCie/PS_downloads_SK/download/PSScene/20200322_204122_23_1064_3B_AnalyticMS_SR_harmonized_clip.tif', '/Volumes/LaCie/PS_downloads_SK/download/PSScene/20200322_204118_15_1064_3B_AnalyticMS_SR_harmonized_clip.tif', '/Volumes/LaCie/PS_downloads_SK/download/PSScene/20200322_204120_19_1064_3B_AnalyticMS_SR_harmonized_clip.tif']\n",
      "['/Volumes/LaCie/PS_downloads_SK/download/PSScene/20200322_192824_82_106a_3B_AnalyticMS_SR_harmonized_clip.tif', '/Volumes/LaCie/PS_downloads_SK/download/PSScene/20200322_192820_61_106a_3B_AnalyticMS_SR_harmonized_clip.tif', '/Volumes/LaCie/PS_downloads_SK/download/PSScene/20200322_192822_72_106a_3B_AnalyticMS_SR_harmonized_clip.tif', '/Volumes/LaCie/PS_downloads_SK/download/PSScene/20200322_192818_51_106a_3B_AnalyticMS_SR_harmonized_clip.tif']\n",
      "['/Volumes/LaCie/PS_downloads_SK/download/PSScene/20200323_173029_0f49_3B_AnalyticMS_SR_harmonized_clip.tif', '/Volumes/LaCie/PS_downloads_SK/download/PSScene/20200323_173026_0f49_3B_AnalyticMS_SR_harmonized_clip.tif', '/Volumes/LaCie/PS_downloads_SK/download/PSScene/20200323_173029_1_0f49_3B_AnalyticMS_SR_harmonized_clip.tif', '/Volumes/LaCie/PS_downloads_SK/download/PSScene/20200323_173028_0f49_3B_AnalyticMS_SR_harmonized_clip.tif', '/Volumes/LaCie/PS_downloads_SK/download/PSScene/20200323_173025_0f49_3B_AnalyticMS_SR_harmonized_clip.tif', '/Volumes/LaCie/PS_downloads_SK/download/PSScene/20200323_173027_0f49_3B_AnalyticMS_SR_harmonized_clip.tif', '/Volumes/LaCie/PS_downloads_SK/download/PSScene/20200323_173024_0f49_3B_AnalyticMS_SR_harmonized_clip.tif']\n",
      "['/Volumes/LaCie/PS_downloads_SK/download/PSScene/20200324_201449_1003_3B_AnalyticMS_SR_harmonized_clip.tif', '/Volumes/LaCie/PS_downloads_SK/download/PSScene/20200324_201448_1003_3B_AnalyticMS_SR_harmonized_clip.tif', '/Volumes/LaCie/PS_downloads_SK/download/PSScene/20200324_201450_1003_3B_AnalyticMS_SR_harmonized_clip.tif', '/Volumes/LaCie/PS_downloads_SK/download/PSScene/20200324_201451_1003_3B_AnalyticMS_SR_harmonized_clip.tif']\n",
      "['/Volumes/LaCie/PS_downloads_SK/download/PSScene/20200324_192923_32_1063_3B_AnalyticMS_SR_harmonized_clip.tif']\n",
      "['/Volumes/LaCie/PS_downloads_SK/download/PSScene/20200325_200931_100a_3B_AnalyticMS_SR_harmonized_clip.tif', '/Volumes/LaCie/PS_downloads_SK/download/PSScene/20200325_200930_100a_3B_AnalyticMS_SR_harmonized_clip.tif', '/Volumes/LaCie/PS_downloads_SK/download/PSScene/20200325_200932_100a_3B_AnalyticMS_SR_harmonized_clip.tif']\n",
      "['/Volumes/LaCie/PS_downloads_SK/download/PSScene/20200325_201753_1027_3B_AnalyticMS_SR_harmonized_clip.tif', '/Volumes/LaCie/PS_downloads_SK/download/PSScene/20200325_201754_1027_3B_AnalyticMS_SR_harmonized_clip.tif']\n",
      "['/Volumes/LaCie/PS_downloads_SK/download/PSScene/20200325_193031_72_106e_3B_AnalyticMS_SR_harmonized_clip.tif', '/Volumes/LaCie/PS_downloads_SK/download/PSScene/20200325_193029_62_106e_3B_AnalyticMS_SR_harmonized_clip.tif', '/Volumes/LaCie/PS_downloads_SK/download/PSScene/20200325_193025_42_106e_3B_AnalyticMS_SR_harmonized_clip.tif', '/Volumes/LaCie/PS_downloads_SK/download/PSScene/20200325_193027_52_106e_3B_AnalyticMS_SR_harmonized_clip.tif']\n",
      "['/Volumes/LaCie/PS_downloads_SK/download/PSScene/20200326_172809_0f36_3B_AnalyticMS_SR_harmonized_clip.tif', '/Volumes/LaCie/PS_downloads_SK/download/PSScene/20200326_172802_0f36_3B_AnalyticMS_SR_harmonized_clip.tif', '/Volumes/LaCie/PS_downloads_SK/download/PSScene/20200326_172808_0f36_3B_AnalyticMS_SR_harmonized_clip.tif', '/Volumes/LaCie/PS_downloads_SK/download/PSScene/20200326_172804_0f36_3B_AnalyticMS_SR_harmonized_clip.tif', '/Volumes/LaCie/PS_downloads_SK/download/PSScene/20200326_172805_0f36_3B_AnalyticMS_SR_harmonized_clip.tif', '/Volumes/LaCie/PS_downloads_SK/download/PSScene/20200326_172807_0f36_3B_AnalyticMS_SR_harmonized_clip.tif', '/Volumes/LaCie/PS_downloads_SK/download/PSScene/20200326_172806_0f36_3B_AnalyticMS_SR_harmonized_clip.tif', '/Volumes/LaCie/PS_downloads_SK/download/PSScene/20200326_172803_0f36_3B_AnalyticMS_SR_harmonized_clip.tif']\n",
      "['/Volumes/LaCie/PS_downloads_SK/download/PSScene/20200326_173534_0f3c_3B_AnalyticMS_SR_harmonized_clip.tif', '/Volumes/LaCie/PS_downloads_SK/download/PSScene/20200326_173536_0f3c_3B_AnalyticMS_SR_harmonized_clip.tif', '/Volumes/LaCie/PS_downloads_SK/download/PSScene/20200326_173535_0f3c_3B_AnalyticMS_SR_harmonized_clip.tif']\n",
      "['/Volumes/LaCie/PS_downloads_SK/download/PSScene/20200326_201141_1006_3B_AnalyticMS_SR_harmonized_clip.tif', '/Volumes/LaCie/PS_downloads_SK/download/PSScene/20200326_201139_1006_3B_AnalyticMS_SR_harmonized_clip.tif', '/Volumes/LaCie/PS_downloads_SK/download/PSScene/20200326_201146_1006_3B_AnalyticMS_SR_harmonized_clip.tif', '/Volumes/LaCie/PS_downloads_SK/download/PSScene/20200326_201143_1006_3B_AnalyticMS_SR_harmonized_clip.tif', '/Volumes/LaCie/PS_downloads_SK/download/PSScene/20200326_201145_1006_3B_AnalyticMS_SR_harmonized_clip.tif', '/Volumes/LaCie/PS_downloads_SK/download/PSScene/20200326_201144_1006_3B_AnalyticMS_SR_harmonized_clip.tif', '/Volumes/LaCie/PS_downloads_SK/download/PSScene/20200326_201140_1006_3B_AnalyticMS_SR_harmonized_clip.tif']\n",
      "['/Volumes/LaCie/PS_downloads_SK/download/PSScene/20200326_201839_103d_3B_AnalyticMS_SR_harmonized_clip.tif', '/Volumes/LaCie/PS_downloads_SK/download/PSScene/20200326_201846_103d_3B_AnalyticMS_SR_harmonized_clip.tif', '/Volumes/LaCie/PS_downloads_SK/download/PSScene/20200326_201845_103d_3B_AnalyticMS_SR_harmonized_clip.tif', '/Volumes/LaCie/PS_downloads_SK/download/PSScene/20200326_201840_103d_3B_AnalyticMS_SR_harmonized_clip.tif', '/Volumes/LaCie/PS_downloads_SK/download/PSScene/20200326_201842_103d_3B_AnalyticMS_SR_harmonized_clip.tif', '/Volumes/LaCie/PS_downloads_SK/download/PSScene/20200326_201841_103d_3B_AnalyticMS_SR_harmonized_clip.tif', '/Volumes/LaCie/PS_downloads_SK/download/PSScene/20200326_201844_103d_3B_AnalyticMS_SR_harmonized_clip.tif', '/Volumes/LaCie/PS_downloads_SK/download/PSScene/20200326_201843_103d_3B_AnalyticMS_SR_harmonized_clip.tif']\n",
      "['/Volumes/LaCie/PS_downloads_SK/download/PSScene/20200327_195953_0e26_3B_AnalyticMS_SR_harmonized_clip.tif']\n",
      "['/Volumes/LaCie/PS_downloads_SK/download/PSScene/20200327_201624_1032_3B_AnalyticMS_SR_harmonized_clip.tif']\n",
      "['/Volumes/LaCie/PS_downloads_SK/download/PSScene/20200328_203802_97_105d_3B_AnalyticMS_SR_harmonized_clip.tif', '/Volumes/LaCie/PS_downloads_SK/download/PSScene/20200328_203758_89_105d_3B_AnalyticMS_SR_harmonized_clip.tif', '/Volumes/LaCie/PS_downloads_SK/download/PSScene/20200328_203756_85_105d_3B_AnalyticMS_SR_harmonized_clip.tif', '/Volumes/LaCie/PS_downloads_SK/download/PSScene/20200328_203754_82_105d_3B_AnalyticMS_SR_harmonized_clip.tif', '/Volumes/LaCie/PS_downloads_SK/download/PSScene/20200328_203800_93_105d_3B_AnalyticMS_SR_harmonized_clip.tif']\n",
      "['/Volumes/LaCie/PS_downloads_SK/download/PSScene/20200328_192356_37_1062_3B_AnalyticMS_SR_harmonized_clip.tif', '/Volumes/LaCie/PS_downloads_SK/download/PSScene/20200328_192358_47_1062_3B_AnalyticMS_SR_harmonized_clip.tif']\n",
      "['/Volumes/LaCie/PS_downloads_SK/download/PSScene/20200329_172820_0f33_3B_AnalyticMS_SR_harmonized_clip.tif', '/Volumes/LaCie/PS_downloads_SK/download/PSScene/20200329_172826_0f33_3B_AnalyticMS_SR_harmonized_clip.tif', '/Volumes/LaCie/PS_downloads_SK/download/PSScene/20200329_172822_0f33_3B_AnalyticMS_SR_harmonized_clip.tif', '/Volumes/LaCie/PS_downloads_SK/download/PSScene/20200329_172822_1_0f33_3B_AnalyticMS_SR_harmonized_clip.tif', '/Volumes/LaCie/PS_downloads_SK/download/PSScene/20200329_172824_0f33_3B_AnalyticMS_SR_harmonized_clip.tif', '/Volumes/LaCie/PS_downloads_SK/download/PSScene/20200329_172825_0f33_3B_AnalyticMS_SR_harmonized_clip.tif', '/Volumes/LaCie/PS_downloads_SK/download/PSScene/20200329_172821_0f33_3B_AnalyticMS_SR_harmonized_clip.tif', '/Volumes/LaCie/PS_downloads_SK/download/PSScene/20200329_172823_0f33_3B_AnalyticMS_SR_harmonized_clip.tif']\n",
      "['/Volumes/LaCie/PS_downloads_SK/download/PSScene/20200329_201729_1027_3B_AnalyticMS_SR_harmonized_clip.tif', '/Volumes/LaCie/PS_downloads_SK/download/PSScene/20200329_201723_1027_3B_AnalyticMS_SR_harmonized_clip.tif', '/Volumes/LaCie/PS_downloads_SK/download/PSScene/20200329_201724_1027_3B_AnalyticMS_SR_harmonized_clip.tif', '/Volumes/LaCie/PS_downloads_SK/download/PSScene/20200329_201726_1027_3B_AnalyticMS_SR_harmonized_clip.tif', '/Volumes/LaCie/PS_downloads_SK/download/PSScene/20200329_201728_1027_3B_AnalyticMS_SR_harmonized_clip.tif', '/Volumes/LaCie/PS_downloads_SK/download/PSScene/20200329_201725_1027_3B_AnalyticMS_SR_harmonized_clip.tif', '/Volumes/LaCie/PS_downloads_SK/download/PSScene/20200329_201727_1027_3B_AnalyticMS_SR_harmonized_clip.tif']\n",
      "['/Volumes/LaCie/PS_downloads_SK/download/PSScene/20200330_201436_0f25_3B_AnalyticMS_SR_harmonized_clip.tif']\n",
      "['/Volumes/LaCie/PS_downloads_SK/download/PSScene/20200330_172810_0f2a_3B_AnalyticMS_SR_harmonized_clip.tif', '/Volumes/LaCie/PS_downloads_SK/download/PSScene/20200330_172809_0f2a_3B_AnalyticMS_SR_harmonized_clip.tif', '/Volumes/LaCie/PS_downloads_SK/download/PSScene/20200330_172811_0f2a_3B_AnalyticMS_SR_harmonized_clip.tif']\n",
      "['/Volumes/LaCie/PS_downloads_SK/download/PSScene/20200330_172428_104a_3B_AnalyticMS_SR_harmonized_clip.tif', '/Volumes/LaCie/PS_downloads_SK/download/PSScene/20200330_172422_104a_3B_AnalyticMS_SR_harmonized_clip.tif', '/Volumes/LaCie/PS_downloads_SK/download/PSScene/20200330_172422_1_104a_3B_AnalyticMS_SR_harmonized_clip.tif', '/Volumes/LaCie/PS_downloads_SK/download/PSScene/20200330_172423_104a_3B_AnalyticMS_SR_harmonized_clip.tif', '/Volumes/LaCie/PS_downloads_SK/download/PSScene/20200330_172425_104a_3B_AnalyticMS_SR_harmonized_clip.tif', '/Volumes/LaCie/PS_downloads_SK/download/PSScene/20200330_172424_104a_3B_AnalyticMS_SR_harmonized_clip.tif', '/Volumes/LaCie/PS_downloads_SK/download/PSScene/20200330_172426_104a_3B_AnalyticMS_SR_harmonized_clip.tif', '/Volumes/LaCie/PS_downloads_SK/download/PSScene/20200330_172427_104a_3B_AnalyticMS_SR_harmonized_clip.tif']\n",
      "['/Volumes/LaCie/PS_downloads_SK/download/PSScene/20200330_192458_96_1065_3B_AnalyticMS_SR_harmonized_clip.tif', '/Volumes/LaCie/PS_downloads_SK/download/PSScene/20200330_192450_56_1065_3B_AnalyticMS_SR_harmonized_clip.tif', '/Volumes/LaCie/PS_downloads_SK/download/PSScene/20200330_192456_86_1065_3B_AnalyticMS_SR_harmonized_clip.tif', '/Volumes/LaCie/PS_downloads_SK/download/PSScene/20200330_192454_76_1065_3B_AnalyticMS_SR_harmonized_clip.tif', '/Volumes/LaCie/PS_downloads_SK/download/PSScene/20200330_192452_66_1065_3B_AnalyticMS_SR_harmonized_clip.tif']\n"
     ]
    }
   ],
   "source": [
    "for idx, row in satdate_df.iterrows():\n",
    "    tile_filenames = glob.glob(folderpath+'*'+row.date+'*'+row.sat_ID+'*harmonized_clip.tif')\n",
    "    print(tile_filenames)\n",
    "    \n",
    "    # determine file with largest coverage"
   ]
  },
  {
   "cell_type": "code",
   "execution_count": null,
   "id": "e20d78b2",
   "metadata": {},
   "outputs": [],
   "source": []
  }
 ],
 "metadata": {
  "kernelspec": {
   "display_name": "Python 3 (ipykernel)",
   "language": "python",
   "name": "python3"
  },
  "language_info": {
   "codemirror_mode": {
    "name": "ipython",
    "version": 3
   },
   "file_extension": ".py",
   "mimetype": "text/x-python",
   "name": "python",
   "nbconvert_exporter": "python",
   "pygments_lexer": "ipython3",
   "version": "3.9.6"
  }
 },
 "nbformat": 4,
 "nbformat_minor": 5
}
