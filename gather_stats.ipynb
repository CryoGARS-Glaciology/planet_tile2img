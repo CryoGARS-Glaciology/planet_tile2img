{
 "cells": [
  {
   "cell_type": "markdown",
   "id": "f124bad6",
   "metadata": {},
   "source": [
    "# Gather number of tiles and satellite passes for days in the month"
   ]
  },
  {
   "cell_type": "code",
   "execution_count": 66,
   "id": "37ad2c4a",
   "metadata": {},
   "outputs": [],
   "source": [
    "import os\n",
    "import pandas as pd\n",
    "import matplotlib.pyplot as plt\n",
    "import glob\n",
    "import datetime\n",
    "import shutil"
   ]
  },
  {
   "cell_type": "markdown",
   "id": "2029f905",
   "metadata": {},
   "source": [
    "inputs: -img_folder -out_path"
   ]
  },
  {
   "cell_type": "code",
   "execution_count": null,
   "id": "3042144b",
   "metadata": {},
   "outputs": [],
   "source": [
    "import sys\n",
    "args = sys.argv\n",
    "folderpath = args[1] # path to monthly folder"
   ]
  },
  {
   "cell_type": "code",
   "execution_count": 103,
   "id": "6c286b76",
   "metadata": {},
   "outputs": [],
   "source": [
    "folderpath = '/Volumes/SURGE_DISK/PS_downloads_SK/2021-06/' # path to folders with downloaded images (monthly_"
   ]
  },
  {
   "cell_type": "code",
   "execution_count": 104,
   "id": "2064ed2f",
   "metadata": {},
   "outputs": [
    {
     "data": {
      "text/html": [
       "<div>\n",
       "<style scoped>\n",
       "    .dataframe tbody tr th:only-of-type {\n",
       "        vertical-align: middle;\n",
       "    }\n",
       "\n",
       "    .dataframe tbody tr th {\n",
       "        vertical-align: top;\n",
       "    }\n",
       "\n",
       "    .dataframe thead th {\n",
       "        text-align: right;\n",
       "    }\n",
       "</style>\n",
       "<table border=\"1\" class=\"dataframe\">\n",
       "  <thead>\n",
       "    <tr style=\"text-align: right;\">\n",
       "      <th></th>\n",
       "      <th>date</th>\n",
       "      <th>sat_ID</th>\n",
       "    </tr>\n",
       "  </thead>\n",
       "  <tbody>\n",
       "    <tr>\n",
       "      <th>0</th>\n",
       "      <td>20210601</td>\n",
       "      <td>0f4e</td>\n",
       "    </tr>\n",
       "    <tr>\n",
       "      <th>1</th>\n",
       "      <td>20210601</td>\n",
       "      <td>2448</td>\n",
       "    </tr>\n",
       "    <tr>\n",
       "      <th>2</th>\n",
       "      <td>20210602</td>\n",
       "      <td>0f32</td>\n",
       "    </tr>\n",
       "    <tr>\n",
       "      <th>3</th>\n",
       "      <td>20210604</td>\n",
       "      <td>1054</td>\n",
       "    </tr>\n",
       "    <tr>\n",
       "      <th>4</th>\n",
       "      <td>20210604</td>\n",
       "      <td>240f</td>\n",
       "    </tr>\n",
       "  </tbody>\n",
       "</table>\n",
       "</div>"
      ],
      "text/plain": [
       "       date sat_ID\n",
       "0  20210601   0f4e\n",
       "1  20210601   2448\n",
       "2  20210602   0f32\n",
       "3  20210604   1054\n",
       "4  20210604   240f"
      ]
     },
     "execution_count": 104,
     "metadata": {},
     "output_type": "execute_result"
    }
   ],
   "source": [
    "# grab all satellite IDs and dates of imagery\n",
    "filelist = os.listdir(folderpath+'PSScene/'); filelist.sort()\n",
    "dates = []; IDs = []; files = []\n",
    "no_tiles  = 0\n",
    "for file in filelist:\n",
    "    if file.startswith('2') and file.endswith('harmonized_clip.tif'):\n",
    "        date = file.split('_')[0] # grab the date\n",
    "        sID = file.split('_')[-6] # grab the satellite ID (4 digit code)\n",
    "        dates.append(date); IDs.append(sID); files.append(file) # append to list\n",
    "        no_tiles+=1\n",
    "sorted_dates = list(set(list(zip(dates, IDs)))) # set of the zipped date and ID\n",
    "sorted_dates.sort() # sorted\n",
    "satdate_df = pd.DataFrame(sorted_dates, columns=['date','sat_ID'])\n",
    "satdate_df.head()"
   ]
  },
  {
   "cell_type": "code",
   "execution_count": 105,
   "id": "49831fbc",
   "metadata": {},
   "outputs": [
    {
     "name": "stdout",
     "output_type": "stream",
     "text": [
      "['20210601', '20210602', '20210604', '20210605', '20210606', '20210607', '20210608', '20210609', '20210610', '20210611', '20210612', '20210613', '20210614', '20210615', '20210617', '20210618', '20210619', '20210621', '20210622', '20210623', '20210624', '20210627', '20210628', '20210629', '20210630']\n",
      "For 2021 month 06 :\n",
      "194 total image tiles were acquired\n",
      "over 25 days\n"
     ]
    }
   ],
   "source": [
    "# Print stats for the month:\n",
    "unique_dates = list(set(satdate_df.date))\n",
    "unique_dates.sort()\n",
    "print(unique_dates)\n",
    "print('For',unique_dates[0][:4], 'month', unique_dates[0][4:6],':')\n",
    "print(no_tiles, 'total image tiles were acquired')\n",
    "print('over',len(unique_dates),'days')"
   ]
  },
  {
   "cell_type": "code",
   "execution_count": 106,
   "id": "ef8a9e68",
   "metadata": {},
   "outputs": [],
   "source": [
    "# count number of satellites per day and number of tiles per day\n",
    "satdates = []; no_sats = []; no_tiles_day = [];\n",
    "\n",
    "for datestr in unique_dates:\n",
    "    sat_df = satdate_df[satdate_df.date == datestr]\n",
    "    sats_per_day = len(sat_df)\n",
    "    satdates.append(datestr); no_sats.append(sats_per_day)\n",
    "    \n",
    "    tile_count = 0\n",
    "    for idx, row in sat_df.iterrows():\n",
    "        tile_count+=len(glob.glob(folderpath+'PSScene/'+datestr+'*'+row.sat_ID+'*harmonized_clip.tif'))\n",
    "        \n",
    "    no_tiles_day.append(tile_count)"
   ]
  },
  {
   "cell_type": "code",
   "execution_count": 107,
   "id": "9cef6f37",
   "metadata": {},
   "outputs": [
    {
     "data": {
      "image/png": "[encoded data removed]",
      "text/plain": [
       "<Figure size 1296x504 with 1 Axes>"
      ]
     },
     "metadata": {
      "needs_background": "light"
     },
     "output_type": "display_data"
    }
   ],
   "source": [
    "# plot\n",
    "fs = 16\n",
    "plt.figure(figsize=(18,7))\n",
    "plt.bar(pd.to_datetime(satdates, format='%Y%m%d'), no_tiles_day)\n",
    "plt.bar(pd.to_datetime(satdates, format='%Y%m%d'), no_sats)\n",
    "plt.xlim(datetime.datetime(int(unique_dates[0][:4]),int(unique_dates[0][4:6]),1))\n",
    "plt.xticks(rotation=30,fontsize=fs)\n",
    "plt.yticks(fontsize=fs)\n",
    "plt.ylabel('Count',fontsize=fs)\n",
    "plt.title('PlanetScope image tiles per day',fontsize=fs)\n",
    "plt.legend(['# tiles','# satellites'],fontsize=fs)\n",
    "plt.grid()\n",
    "plt.tight_layout()\n",
    "plt.savefig(folderpath+'image_availability_summary.png', dpi=300)# export graph as img png\n",
    "# plt.show()"
   ]
  },
  {
   "cell_type": "code",
   "execution_count": 108,
   "id": "f6e5b7d6",
   "metadata": {},
   "outputs": [],
   "source": [
    "# export data as CSV file for month\n",
    "data_df = pd.DataFrame(list(zip(satdates, no_tiles_day, no_sats)),columns=['dates','tiles','sats'])\n",
    "# data_df\n",
    "data_df.to_csv(folderpath+'image_availability_summary.csv')"
   ]
  },
  {
   "cell_type": "code",
   "execution_count": 109,
   "id": "40559b17",
   "metadata": {},
   "outputs": [
    {
     "ename": "FileNotFoundError",
     "evalue": "[Errno 2] No such file or directory: '/Volumes/SURGE_DISK/PS_downloads_SK/2021-06/PSScene/reprojected/'",
     "output_type": "error",
     "traceback": [
      "\u001b[0;31m---------------------------------------------------------------------------\u001b[0m",
      "\u001b[0;31mFileNotFoundError\u001b[0m                         Traceback (most recent call last)",
      "Input \u001b[0;32mIn [109]\u001b[0m, in \u001b[0;36m<cell line: 10>\u001b[0;34m()\u001b[0m\n\u001b[1;32m      7\u001b[0m     os\u001b[38;5;241m.\u001b[39mremove(file)\n\u001b[1;32m      9\u001b[0m     \u001b[38;5;66;03m# delete the reprojected folder\u001b[39;00m\n\u001b[0;32m---> 10\u001b[0m \u001b[43mshutil\u001b[49m\u001b[38;5;241;43m.\u001b[39;49m\u001b[43mrmtree\u001b[49m\u001b[43m(\u001b[49m\u001b[43mfolderpath\u001b[49m\u001b[38;5;241;43m+\u001b[39;49m\u001b[38;5;124;43m'\u001b[39;49m\u001b[38;5;124;43mPSScene/reprojected/\u001b[39;49m\u001b[38;5;124;43m'\u001b[39;49m\u001b[43m)\u001b[49m\n",
      "File \u001b[0;32m~/opt/anaconda3/envs/newautoriftenv/lib/python3.9/shutil.py:709\u001b[0m, in \u001b[0;36mrmtree\u001b[0;34m(path, ignore_errors, onerror)\u001b[0m\n\u001b[1;32m    707\u001b[0m     orig_st \u001b[38;5;241m=\u001b[39m os\u001b[38;5;241m.\u001b[39mlstat(path)\n\u001b[1;32m    708\u001b[0m \u001b[38;5;28;01mexcept\u001b[39;00m \u001b[38;5;167;01mException\u001b[39;00m:\n\u001b[0;32m--> 709\u001b[0m     \u001b[43monerror\u001b[49m\u001b[43m(\u001b[49m\u001b[43mos\u001b[49m\u001b[38;5;241;43m.\u001b[39;49m\u001b[43mlstat\u001b[49m\u001b[43m,\u001b[49m\u001b[43m \u001b[49m\u001b[43mpath\u001b[49m\u001b[43m,\u001b[49m\u001b[43m \u001b[49m\u001b[43msys\u001b[49m\u001b[38;5;241;43m.\u001b[39;49m\u001b[43mexc_info\u001b[49m\u001b[43m(\u001b[49m\u001b[43m)\u001b[49m\u001b[43m)\u001b[49m\n\u001b[1;32m    710\u001b[0m     \u001b[38;5;28;01mreturn\u001b[39;00m\n\u001b[1;32m    711\u001b[0m \u001b[38;5;28;01mtry\u001b[39;00m:\n",
      "File \u001b[0;32m~/opt/anaconda3/envs/newautoriftenv/lib/python3.9/shutil.py:707\u001b[0m, in \u001b[0;36mrmtree\u001b[0;34m(path, ignore_errors, onerror)\u001b[0m\n\u001b[1;32m    704\u001b[0m \u001b[38;5;66;03m# Note: To guard against symlink races, we use the standard\u001b[39;00m\n\u001b[1;32m    705\u001b[0m \u001b[38;5;66;03m# lstat()/open()/fstat() trick.\u001b[39;00m\n\u001b[1;32m    706\u001b[0m \u001b[38;5;28;01mtry\u001b[39;00m:\n\u001b[0;32m--> 707\u001b[0m     orig_st \u001b[38;5;241m=\u001b[39m \u001b[43mos\u001b[49m\u001b[38;5;241;43m.\u001b[39;49m\u001b[43mlstat\u001b[49m\u001b[43m(\u001b[49m\u001b[43mpath\u001b[49m\u001b[43m)\u001b[49m\n\u001b[1;32m    708\u001b[0m \u001b[38;5;28;01mexcept\u001b[39;00m \u001b[38;5;167;01mException\u001b[39;00m:\n\u001b[1;32m    709\u001b[0m     onerror(os\u001b[38;5;241m.\u001b[39mlstat, path, sys\u001b[38;5;241m.\u001b[39mexc_info())\n",
      "\u001b[0;31mFileNotFoundError\u001b[0m: [Errno 2] No such file or directory: '/Volumes/SURGE_DISK/PS_downloads_SK/2021-06/PSScene/reprojected/'"
     ]
    }
   ],
   "source": [
    "# delete all raw imagery\n",
    "DELETE_LIST = []\n",
    "DELETE_LIST.extend(glob.glob(folderpath+'PSScene/*json'))\n",
    "DELETE_LIST.extend(glob.glob(folderpath+'PSScene/*.tif'))\n",
    "DELETE_LIST.extend(glob.glob(folderpath+'PSScene/*.xml'))\n",
    "for file in DELETE_LIST:\n",
    "    os.remove(file)\n",
    "\n",
    "    # delete the reprojected folder\n",
    "shutil.rmtree(folderpath+'PSScene/reprojected/')"
   ]
  },
  {
   "cell_type": "code",
   "execution_count": null,
   "id": "9536f4c6",
   "metadata": {},
   "outputs": [],
   "source": []
  }
 ],
 "metadata": {
  "kernelspec": {
   "display_name": "Python 3 (ipykernel)",
   "language": "python",
   "name": "python3"
  },
  "language_info": {
   "codemirror_mode": {
    "name": "ipython",
    "version": 3
   },
   "file_extension": ".py",
   "mimetype": "text/x-python",
   "name": "python",
   "nbconvert_exporter": "python",
   "pygments_lexer": "ipython3",
   "version": "3.9.6"
  }
 },
 "nbformat": 4,
 "nbformat_minor": 5
}
